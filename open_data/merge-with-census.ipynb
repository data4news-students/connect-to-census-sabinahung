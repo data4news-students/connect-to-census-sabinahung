{
 "cells": [
  {
   "cell_type": "markdown",
   "metadata": {},
   "source": [
    "# Notebook Title"
   ]
  },
  {
   "cell_type": "markdown",
   "metadata": {},
   "source": [
    "## Setup Python and R environment\n",
    "you can ignore this section"
   ]
  },
  {
   "cell_type": "code",
   "execution_count": 1,
   "metadata": {},
   "outputs": [],
   "source": [
    "%load_ext rpy2.ipython\n",
    "%load_ext autoreload\n",
    "%autoreload 2\n",
    "\n",
    "%matplotlib inline  \n",
    "from matplotlib import rcParams\n",
    "rcParams['figure.figsize'] = (16, 100)\n",
    "\n",
    "import warnings\n",
    "from rpy2.rinterface import RRuntimeWarning\n",
    "warnings.filterwarnings(\"ignore\") # Ignore all warnings\n",
    "# warnings.filterwarnings(\"ignore\", category=RRuntimeWarning) # Show some warnings\n",
    "\n",
    "import pandas as pd\n",
    "import numpy as np\n",
    "import matplotlib.pyplot as plt\n",
    "from IPython.display import display, HTML"
   ]
  },
  {
   "cell_type": "code",
   "execution_count": 2,
   "metadata": {},
   "outputs": [
    {
     "data": {
      "application/javascript": "// Disable auto-scrolling\nIPython.OutputArea.prototype._should_scroll = function(lines) {\n    return false;\n}\n",
      "text/plain": [
       "<IPython.core.display.Javascript object>"
      ]
     },
     "metadata": {},
     "output_type": "display_data"
    }
   ],
   "source": [
    "%%javascript\n",
    "// Disable auto-scrolling\n",
    "IPython.OutputArea.prototype._should_scroll = function(lines) {\n",
    "    return false;\n",
    "}"
   ]
  },
  {
   "cell_type": "code",
   "execution_count": 3,
   "metadata": {},
   "outputs": [
    {
     "name": "stdout",
     "output_type": "stream",
     "text": [
      "── Attaching core tidyverse packages ──────────────────────── tidyverse 2.0.0 ──\n",
      "✔ dplyr     1.1.4     ✔ readr     2.1.5\n",
      "✔ forcats   1.0.0     ✔ stringr   1.5.1\n",
      "✔ ggplot2   3.4.4     ✔ tibble    3.2.1\n",
      "✔ lubridate 1.9.3     ✔ tidyr     1.3.0\n",
      "✔ purrr     1.0.2     \n",
      "── Conflicts ────────────────────────────────────────── tidyverse_conflicts() ──\n",
      "✖ dplyr::filter() masks stats::filter()\n",
      "✖ dplyr::lag()    masks stats::lag()\n",
      "ℹ Use the conflicted package (<http://conflicted.r-lib.org/>) to force all conflicts to become errors\n"
     ]
    },
    {
     "data": {
      "text/plain": [
       "Loading required package: tidyverse\n"
      ]
     },
     "metadata": {},
     "output_type": "display_data"
    }
   ],
   "source": [
    "%%R\n",
    "\n",
    "# My commonly used R imports\n",
    "\n",
    "require('tidyverse')"
   ]
  },
  {
   "cell_type": "markdown",
   "metadata": {},
   "source": [
    "## Load & Clean Data\n",
    "\n",
    "👉 Load the data along with the census connectors below (the output of the `connect-to-census.ipynb` notebook) and do any cleanup you'd like to do."
   ]
  },
  {
   "cell_type": "code",
   "execution_count": 4,
   "metadata": {},
   "outputs": [
    {
     "name": "stdout",
     "output_type": "stream",
     "text": [
      "Rows: 6936 Columns: 43\n",
      "── Column specification ────────────────────────────────────────────────────────\n",
      "Delimiter: \",\"\n",
      "chr (19): Month, Borough_x, Equipment Type, Equipment Code, Station Name, St...\n",
      "dbl (24): Total Outages, Scheduled Outages, Unscheduled Outages, Entrapments...\n",
      "\n",
      "ℹ Use `spec()` to retrieve the full column specification for this data.\n",
      "ℹ Specify the column types or set `show_col_types = FALSE` to quiet this message.\n"
     ]
    }
   ],
   "source": [
    "%%R \n",
    "df <- read_csv('2023_subway_censusgeo.csv')"
   ]
  },
  {
   "cell_type": "code",
   "execution_count": 5,
   "metadata": {},
   "outputs": [],
   "source": [
    "df = pd.read_csv('2023_subway_censusgeo.csv')"
   ]
  },
  {
   "cell_type": "code",
   "execution_count": 6,
   "metadata": {},
   "outputs": [
    {
     "data": {
      "text/plain": [
       "(6936, 43)"
      ]
     },
     "execution_count": 6,
     "metadata": {},
     "output_type": "execute_result"
    }
   ],
   "source": [
    "df.shape"
   ]
  },
  {
   "cell_type": "code",
   "execution_count": 7,
   "metadata": {},
   "outputs": [
    {
     "data": {
      "text/html": [
       "<div>\n",
       "<style scoped>\n",
       "    .dataframe tbody tr th:only-of-type {\n",
       "        vertical-align: middle;\n",
       "    }\n",
       "\n",
       "    .dataframe tbody tr th {\n",
       "        vertical-align: top;\n",
       "    }\n",
       "\n",
       "    .dataframe thead th {\n",
       "        text-align: right;\n",
       "    }\n",
       "</style>\n",
       "<table border=\"1\" class=\"dataframe\">\n",
       "  <thead>\n",
       "    <tr style=\"text-align: right;\">\n",
       "      <th></th>\n",
       "      <th>Month</th>\n",
       "      <th>Borough_x</th>\n",
       "      <th>Equipment Type</th>\n",
       "      <th>Equipment Code</th>\n",
       "      <th>Total Outages</th>\n",
       "      <th>Scheduled Outages</th>\n",
       "      <th>Unscheduled Outages</th>\n",
       "      <th>Entrapments</th>\n",
       "      <th>Time Since Major Improvement</th>\n",
       "      <th>AM Peak Availability</th>\n",
       "      <th>AM Peak Hours Available</th>\n",
       "      <th>AM Peak Total Hours</th>\n",
       "      <th>PM Peak Availability</th>\n",
       "      <th>PM Peak Hours Available</th>\n",
       "      <th>PM Peak Total Hours</th>\n",
       "      <th>24-Hour Availability</th>\n",
       "      <th>24-Hour Hours Available</th>\n",
       "      <th>24-Hour Total Hours</th>\n",
       "      <th>Station Name</th>\n",
       "      <th>Station MRN</th>\n",
       "      <th>Station Complex Name</th>\n",
       "      <th>Station Complex MRN</th>\n",
       "      <th>Station ID</th>\n",
       "      <th>Complex ID</th>\n",
       "      <th>GTFS Stop ID</th>\n",
       "      <th>Division</th>\n",
       "      <th>Line</th>\n",
       "      <th>Stop Name</th>\n",
       "      <th>Borough_y</th>\n",
       "      <th>Daytime Routes</th>\n",
       "      <th>Structure</th>\n",
       "      <th>lat</th>\n",
       "      <th>long</th>\n",
       "      <th>North Direction Label</th>\n",
       "      <th>South Direction Label</th>\n",
       "      <th>ADA</th>\n",
       "      <th>ADA Notes</th>\n",
       "      <th>Georeference</th>\n",
       "      <th>GEOID</th>\n",
       "      <th>STATE</th>\n",
       "      <th>COUNTY</th>\n",
       "      <th>TRACT</th>\n",
       "      <th>BLOCK</th>\n",
       "    </tr>\n",
       "  </thead>\n",
       "  <tbody>\n",
       "    <tr>\n",
       "      <th>0</th>\n",
       "      <td>01/01/2023</td>\n",
       "      <td>Brooklyn</td>\n",
       "      <td>Elevator</td>\n",
       "      <td>EL301</td>\n",
       "      <td>4</td>\n",
       "      <td>2</td>\n",
       "      <td>2</td>\n",
       "      <td>2</td>\n",
       "      <td>225.0</td>\n",
       "      <td>0.978629</td>\n",
       "      <td>121.35</td>\n",
       "      <td>124.0</td>\n",
       "      <td>0.944624</td>\n",
       "      <td>117.133333</td>\n",
       "      <td>124.0</td>\n",
       "      <td>0.977957</td>\n",
       "      <td>727.600000</td>\n",
       "      <td>744.0</td>\n",
       "      <td>ATLANTICAV-BARCLAYSCTR-4AV-D/N/R</td>\n",
       "      <td>27</td>\n",
       "      <td>Atlantic Av (B,Q,2,3,4,5)/Pacific St (D,N,R)</td>\n",
       "      <td>617</td>\n",
       "      <td>27</td>\n",
       "      <td>617</td>\n",
       "      <td>R31</td>\n",
       "      <td>BMT</td>\n",
       "      <td>4th Av</td>\n",
       "      <td>Atlantic Av-Barclays Ctr</td>\n",
       "      <td>Bk</td>\n",
       "      <td>D N R</td>\n",
       "      <td>Subway</td>\n",
       "      <td>40.683666</td>\n",
       "      <td>-73.978810</td>\n",
       "      <td>Manhattan</td>\n",
       "      <td>Coney Island - Bay Ridge</td>\n",
       "      <td>1</td>\n",
       "      <td>NaN</td>\n",
       "      <td>POINT (-73.97881 40.683666)</td>\n",
       "      <td>360470039003001</td>\n",
       "      <td>36</td>\n",
       "      <td>47</td>\n",
       "      <td>3900</td>\n",
       "      <td>3001</td>\n",
       "    </tr>\n",
       "    <tr>\n",
       "      <th>1</th>\n",
       "      <td>01/01/2023</td>\n",
       "      <td>Brooklyn</td>\n",
       "      <td>Elevator</td>\n",
       "      <td>EL301</td>\n",
       "      <td>4</td>\n",
       "      <td>2</td>\n",
       "      <td>2</td>\n",
       "      <td>2</td>\n",
       "      <td>225.0</td>\n",
       "      <td>0.978629</td>\n",
       "      <td>121.35</td>\n",
       "      <td>124.0</td>\n",
       "      <td>0.944624</td>\n",
       "      <td>117.133333</td>\n",
       "      <td>124.0</td>\n",
       "      <td>0.977957</td>\n",
       "      <td>727.600000</td>\n",
       "      <td>744.0</td>\n",
       "      <td>ATLANTICAV-BARCLAYSCTR-4AV-D/N/R</td>\n",
       "      <td>27</td>\n",
       "      <td>Atlantic Av (B,Q,2,3,4,5)/Pacific St (D,N,R)</td>\n",
       "      <td>617</td>\n",
       "      <td>40</td>\n",
       "      <td>617</td>\n",
       "      <td>D24</td>\n",
       "      <td>BMT</td>\n",
       "      <td>Broadway - Brighton</td>\n",
       "      <td>Atlantic Av-Barclays Ctr</td>\n",
       "      <td>Bk</td>\n",
       "      <td>B Q</td>\n",
       "      <td>Subway</td>\n",
       "      <td>40.684460</td>\n",
       "      <td>-73.976890</td>\n",
       "      <td>Manhattan</td>\n",
       "      <td>Brighton Beach &amp; Coney Island</td>\n",
       "      <td>1</td>\n",
       "      <td>NaN</td>\n",
       "      <td>POINT (-73.97689 40.68446)</td>\n",
       "      <td>360470035001003</td>\n",
       "      <td>36</td>\n",
       "      <td>47</td>\n",
       "      <td>3500</td>\n",
       "      <td>1003</td>\n",
       "    </tr>\n",
       "    <tr>\n",
       "      <th>2</th>\n",
       "      <td>01/01/2023</td>\n",
       "      <td>Brooklyn</td>\n",
       "      <td>Elevator</td>\n",
       "      <td>EL301</td>\n",
       "      <td>4</td>\n",
       "      <td>2</td>\n",
       "      <td>2</td>\n",
       "      <td>2</td>\n",
       "      <td>225.0</td>\n",
       "      <td>0.978629</td>\n",
       "      <td>121.35</td>\n",
       "      <td>124.0</td>\n",
       "      <td>0.944624</td>\n",
       "      <td>117.133333</td>\n",
       "      <td>124.0</td>\n",
       "      <td>0.977957</td>\n",
       "      <td>727.600000</td>\n",
       "      <td>744.0</td>\n",
       "      <td>ATLANTICAV-BARCLAYSCTR-4AV-D/N/R</td>\n",
       "      <td>27</td>\n",
       "      <td>Atlantic Av (B,Q,2,3,4,5)/Pacific St (D,N,R)</td>\n",
       "      <td>617</td>\n",
       "      <td>338</td>\n",
       "      <td>617</td>\n",
       "      <td>235</td>\n",
       "      <td>IRT</td>\n",
       "      <td>Eastern Pky</td>\n",
       "      <td>Atlantic Av-Barclays Ctr</td>\n",
       "      <td>Bk</td>\n",
       "      <td>2 3 4 5</td>\n",
       "      <td>Subway</td>\n",
       "      <td>40.684359</td>\n",
       "      <td>-73.977666</td>\n",
       "      <td>Manhattan</td>\n",
       "      <td>Flatbush - New Lots</td>\n",
       "      <td>1</td>\n",
       "      <td>NaN</td>\n",
       "      <td>POINT (-73.977666 40.684359)</td>\n",
       "      <td>360470035001003</td>\n",
       "      <td>36</td>\n",
       "      <td>47</td>\n",
       "      <td>3500</td>\n",
       "      <td>1003</td>\n",
       "    </tr>\n",
       "    <tr>\n",
       "      <th>3</th>\n",
       "      <td>01/01/2023</td>\n",
       "      <td>Brooklyn</td>\n",
       "      <td>Elevator</td>\n",
       "      <td>EL709</td>\n",
       "      <td>6</td>\n",
       "      <td>2</td>\n",
       "      <td>4</td>\n",
       "      <td>0</td>\n",
       "      <td>145.0</td>\n",
       "      <td>0.985081</td>\n",
       "      <td>122.15</td>\n",
       "      <td>124.0</td>\n",
       "      <td>0.974866</td>\n",
       "      <td>120.883333</td>\n",
       "      <td>124.0</td>\n",
       "      <td>0.971214</td>\n",
       "      <td>722.583333</td>\n",
       "      <td>744.0</td>\n",
       "      <td>JAYST-METROTECH-BWY-R</td>\n",
       "      <td>25</td>\n",
       "      <td>Jay St-MetroTech (A,C,F,R)</td>\n",
       "      <td>636</td>\n",
       "      <td>25</td>\n",
       "      <td>636</td>\n",
       "      <td>R29</td>\n",
       "      <td>BMT</td>\n",
       "      <td>Broadway</td>\n",
       "      <td>Jay St-MetroTech</td>\n",
       "      <td>Bk</td>\n",
       "      <td>R</td>\n",
       "      <td>Subway</td>\n",
       "      <td>40.692180</td>\n",
       "      <td>-73.985942</td>\n",
       "      <td>Manhattan</td>\n",
       "      <td>Bay Ridge - 95 St</td>\n",
       "      <td>1</td>\n",
       "      <td>NaN</td>\n",
       "      <td>POINT (-73.985942 40.69218)</td>\n",
       "      <td>360470011001011</td>\n",
       "      <td>36</td>\n",
       "      <td>47</td>\n",
       "      <td>1100</td>\n",
       "      <td>1011</td>\n",
       "    </tr>\n",
       "    <tr>\n",
       "      <th>4</th>\n",
       "      <td>01/01/2023</td>\n",
       "      <td>Brooklyn</td>\n",
       "      <td>Elevator</td>\n",
       "      <td>EL709</td>\n",
       "      <td>6</td>\n",
       "      <td>2</td>\n",
       "      <td>4</td>\n",
       "      <td>0</td>\n",
       "      <td>145.0</td>\n",
       "      <td>0.985081</td>\n",
       "      <td>122.15</td>\n",
       "      <td>124.0</td>\n",
       "      <td>0.974866</td>\n",
       "      <td>120.883333</td>\n",
       "      <td>124.0</td>\n",
       "      <td>0.971214</td>\n",
       "      <td>722.583333</td>\n",
       "      <td>744.0</td>\n",
       "      <td>JAYST-METROTECH-BWY-R</td>\n",
       "      <td>25</td>\n",
       "      <td>Jay St-MetroTech (A,C,F,R)</td>\n",
       "      <td>636</td>\n",
       "      <td>174</td>\n",
       "      <td>636</td>\n",
       "      <td>A41</td>\n",
       "      <td>IND</td>\n",
       "      <td>8th Av - Fulton St</td>\n",
       "      <td>Jay St-MetroTech</td>\n",
       "      <td>Bk</td>\n",
       "      <td>A C F</td>\n",
       "      <td>Subway</td>\n",
       "      <td>40.692338</td>\n",
       "      <td>-73.987342</td>\n",
       "      <td>Manhattan</td>\n",
       "      <td>Euclid - Lefferts - Rockaways - Coney Island</td>\n",
       "      <td>1</td>\n",
       "      <td>NaN</td>\n",
       "      <td>POINT (-73.987342 40.692338)</td>\n",
       "      <td>360470011001001</td>\n",
       "      <td>36</td>\n",
       "      <td>47</td>\n",
       "      <td>1100</td>\n",
       "      <td>1001</td>\n",
       "    </tr>\n",
       "  </tbody>\n",
       "</table>\n",
       "</div>"
      ],
      "text/plain": [
       "        Month Borough_x Equipment Type Equipment Code  Total Outages  \\\n",
       "0  01/01/2023  Brooklyn       Elevator          EL301              4   \n",
       "1  01/01/2023  Brooklyn       Elevator          EL301              4   \n",
       "2  01/01/2023  Brooklyn       Elevator          EL301              4   \n",
       "3  01/01/2023  Brooklyn       Elevator          EL709              6   \n",
       "4  01/01/2023  Brooklyn       Elevator          EL709              6   \n",
       "\n",
       "   Scheduled Outages  Unscheduled Outages  Entrapments  \\\n",
       "0                  2                    2            2   \n",
       "1                  2                    2            2   \n",
       "2                  2                    2            2   \n",
       "3                  2                    4            0   \n",
       "4                  2                    4            0   \n",
       "\n",
       "   Time Since Major Improvement  AM Peak Availability  \\\n",
       "0                         225.0              0.978629   \n",
       "1                         225.0              0.978629   \n",
       "2                         225.0              0.978629   \n",
       "3                         145.0              0.985081   \n",
       "4                         145.0              0.985081   \n",
       "\n",
       "   AM Peak Hours Available  AM Peak Total Hours  PM Peak Availability  \\\n",
       "0                   121.35                124.0              0.944624   \n",
       "1                   121.35                124.0              0.944624   \n",
       "2                   121.35                124.0              0.944624   \n",
       "3                   122.15                124.0              0.974866   \n",
       "4                   122.15                124.0              0.974866   \n",
       "\n",
       "   PM Peak Hours Available  PM Peak Total Hours  24-Hour Availability  \\\n",
       "0               117.133333                124.0              0.977957   \n",
       "1               117.133333                124.0              0.977957   \n",
       "2               117.133333                124.0              0.977957   \n",
       "3               120.883333                124.0              0.971214   \n",
       "4               120.883333                124.0              0.971214   \n",
       "\n",
       "   24-Hour Hours Available  24-Hour Total Hours  \\\n",
       "0               727.600000                744.0   \n",
       "1               727.600000                744.0   \n",
       "2               727.600000                744.0   \n",
       "3               722.583333                744.0   \n",
       "4               722.583333                744.0   \n",
       "\n",
       "                       Station Name  Station MRN  \\\n",
       "0  ATLANTICAV-BARCLAYSCTR-4AV-D/N/R           27   \n",
       "1  ATLANTICAV-BARCLAYSCTR-4AV-D/N/R           27   \n",
       "2  ATLANTICAV-BARCLAYSCTR-4AV-D/N/R           27   \n",
       "3             JAYST-METROTECH-BWY-R           25   \n",
       "4             JAYST-METROTECH-BWY-R           25   \n",
       "\n",
       "                           Station Complex Name  Station Complex MRN  \\\n",
       "0  Atlantic Av (B,Q,2,3,4,5)/Pacific St (D,N,R)                  617   \n",
       "1  Atlantic Av (B,Q,2,3,4,5)/Pacific St (D,N,R)                  617   \n",
       "2  Atlantic Av (B,Q,2,3,4,5)/Pacific St (D,N,R)                  617   \n",
       "3                    Jay St-MetroTech (A,C,F,R)                  636   \n",
       "4                    Jay St-MetroTech (A,C,F,R)                  636   \n",
       "\n",
       "   Station ID  Complex ID GTFS Stop ID Division                 Line  \\\n",
       "0          27         617          R31      BMT               4th Av   \n",
       "1          40         617          D24      BMT  Broadway - Brighton   \n",
       "2         338         617          235      IRT          Eastern Pky   \n",
       "3          25         636          R29      BMT             Broadway   \n",
       "4         174         636          A41      IND   8th Av - Fulton St   \n",
       "\n",
       "                  Stop Name Borough_y Daytime Routes Structure        lat  \\\n",
       "0  Atlantic Av-Barclays Ctr        Bk          D N R    Subway  40.683666   \n",
       "1  Atlantic Av-Barclays Ctr        Bk            B Q    Subway  40.684460   \n",
       "2  Atlantic Av-Barclays Ctr        Bk        2 3 4 5    Subway  40.684359   \n",
       "3          Jay St-MetroTech        Bk              R    Subway  40.692180   \n",
       "4          Jay St-MetroTech        Bk          A C F    Subway  40.692338   \n",
       "\n",
       "        long North Direction Label  \\\n",
       "0 -73.978810             Manhattan   \n",
       "1 -73.976890             Manhattan   \n",
       "2 -73.977666             Manhattan   \n",
       "3 -73.985942             Manhattan   \n",
       "4 -73.987342             Manhattan   \n",
       "\n",
       "                          South Direction Label  ADA ADA Notes  \\\n",
       "0                      Coney Island - Bay Ridge    1       NaN   \n",
       "1                 Brighton Beach & Coney Island    1       NaN   \n",
       "2                           Flatbush - New Lots    1       NaN   \n",
       "3                             Bay Ridge - 95 St    1       NaN   \n",
       "4  Euclid - Lefferts - Rockaways - Coney Island    1       NaN   \n",
       "\n",
       "                   Georeference            GEOID  STATE  COUNTY  TRACT  BLOCK  \n",
       "0   POINT (-73.97881 40.683666)  360470039003001     36      47   3900   3001  \n",
       "1    POINT (-73.97689 40.68446)  360470035001003     36      47   3500   1003  \n",
       "2  POINT (-73.977666 40.684359)  360470035001003     36      47   3500   1003  \n",
       "3   POINT (-73.985942 40.69218)  360470011001011     36      47   1100   1011  \n",
       "4  POINT (-73.987342 40.692338)  360470011001001     36      47   1100   1001  "
      ]
     },
     "execution_count": 7,
     "metadata": {},
     "output_type": "execute_result"
    }
   ],
   "source": [
    "\n",
    "pd.set_option('display.max_columns', None)\n",
    "df.head()\n"
   ]
  },
  {
   "cell_type": "markdown",
   "metadata": {},
   "source": [
    "## 👉 Grab Census Data"
   ]
  },
  {
   "cell_type": "markdown",
   "metadata": {},
   "source": [
    "1. loading the Census API key"
   ]
  },
  {
   "cell_type": "code",
   "execution_count": 8,
   "metadata": {},
   "outputs": [
    {
     "data": {
      "text/plain": [
       "True"
      ]
     },
     "execution_count": 8,
     "metadata": {},
     "output_type": "execute_result"
    }
   ],
   "source": [
    "import dotenv\n",
    "\n",
    "# Load the environment variables\n",
    "# (loads CENSUS_API_KEY from .env)\n",
    "dotenv.load_dotenv()\n"
   ]
  },
  {
   "cell_type": "code",
   "execution_count": 9,
   "metadata": {},
   "outputs": [
    {
     "data": {
      "text/plain": [
       "Loading required package: tidycensus\n",
       "To install your API key for use in future sessions, run this function with `install = TRUE`.\n"
      ]
     },
     "metadata": {},
     "output_type": "display_data"
    }
   ],
   "source": [
    "%%R \n",
    "\n",
    "require('tidycensus')\n",
    "\n",
    "# because it an environment variable, we don't have to \n",
    "# explicitly pass this string to R, it is readable here\n",
    "# in this R cell.\n",
    "census_api_key(Sys.getenv(\"CENSUS_API_KEY\"))"
   ]
  },
  {
   "cell_type": "markdown",
   "metadata": {},
   "source": [
    "2. Decide which Census variables you want\n",
    "\n",
    "    Use <https://censusreporter.org/> to figure out which tables you want. (if censusreporter is down, check out the code in the cell below)\n",
    "\n",
    "    -   Scroll to the bottom of the page to see the tables.\n",
    "    -   If you already know the table ID, stick that in the \"Explore\" section to learn more about that table.\n",
    "\n",
    "    By default this code loads (B01003_001) which we found in censusreporter here: https://censusreporter.org/tables/B01003/\n",
    "\n",
    "    - find some other variables that you're also interested in\n",
    "    - don't forget to pick a geography like \"tract\", \"county\" or \"block group\". here is the list of [all geographies](https://walker-data.com/tidycensus/articles/basic-usage.html#geography-in-tidycensus\n",
    "    ).\n"
   ]
  },
  {
   "cell_type": "code",
   "execution_count": 22,
   "metadata": {},
   "outputs": [
    {
     "ename": "SyntaxError",
     "evalue": "invalid syntax (3197094227.py, line 9)",
     "output_type": "error",
     "traceback": [
      "\u001b[0;36m  Cell \u001b[0;32mIn[22], line 9\u001b[0;36m\u001b[0m\n\u001b[0;31m    filtered_census_vars <- all_census_vars %>%\u001b[0m\n\u001b[0m                                             ^\u001b[0m\n\u001b[0;31mSyntaxError\u001b[0m\u001b[0;31m:\u001b[0m invalid syntax\n"
     ]
    }
   ],
   "source": [
    "# %%R \n",
    "\n",
    "# Finding the Census Varaibles for the ACS 5 year survey\n",
    "# Generally you'd do this in CensusReporter, but since it's down sometimes, here it is using tidycensus's load_variables function\n",
    "\n",
    "# get every single variable in the ACS5\n",
    "all_census_vars <- load_variables(2021, \"acs5\", cache = TRUE) \n",
    "\n",
    "filtered_census_vars <- all_census_vars %>% \n",
    "    filter(grepl(\"median income\", label, ignore.case = TRUE))   # filter to those containing \"median income\"\n",
    "    \n",
    "# write to CSV so we can view it in python\n",
    "filtered_census_vars %>% \n",
    "    write_csv(\"filtered_census_vars.csv\")\n",
    "\n",
    "# show the first few rows\n",
    "filtered_census_vars %>%\n",
    "    select(-geography) %>% # remove the geography column\n",
    "    print(n = 20) # print the first 20 rows"
   ]
  },
  {
   "cell_type": "code",
   "execution_count": 10,
   "metadata": {},
   "outputs": [
    {
     "name": "stdout",
     "output_type": "stream",
     "text": [
      "  |======================================================================| 100%\n",
      "Simple feature collection with 9308 features and 5 fields (with 4 geometries empty)\n",
      "Geometry type: MULTIPOLYGON\n",
      "Dimension:     XY\n",
      "Bounding box:  xmin: -74.25609 ymin: 40.4961 xmax: -73.70036 ymax: 40.91771\n",
      "Geodetic CRS:  NAD83\n",
      "First 10 features:\n",
      "         GEOID                                       NAME   variable estimate   moe                       geometry\n",
      "1  36081014700  Census Tract 147, Queens County, New York population     2863   513 MULTIPOLYGON (((-73.9137 40...\n",
      "2  36081014700  Census Tract 147, Queens County, New York    sub_pop      824   210 MULTIPOLYGON (((-73.9137 40...\n",
      "3  36081014700  Census Tract 147, Queens County, New York    amb_pop     2738   508 MULTIPOLYGON (((-73.9137 40...\n",
      "4  36081014700  Census Tract 147, Queens County, New York   med_earn    71815 18034 MULTIPOLYGON (((-73.9137 40...\n",
      "5  36047058400   Census Tract 584, Kings County, New York population     3655   529 MULTIPOLYGON (((-73.96103 4...\n",
      "6  36047058400   Census Tract 584, Kings County, New York    sub_pop      665   188 MULTIPOLYGON (((-73.96103 4...\n",
      "7  36047058400   Census Tract 584, Kings County, New York    amb_pop     3478   523 MULTIPOLYGON (((-73.96103 4...\n",
      "8  36047058400   Census Tract 584, Kings County, New York   med_earn    67315 10294 MULTIPOLYGON (((-73.96103 4...\n",
      "9  36061006900 Census Tract 69, New York County, New York population     2450   372 MULTIPOLYGON (((-74.02064 4...\n",
      "10 36061006900 Census Tract 69, New York County, New York    sub_pop      496   105 MULTIPOLYGON (((-74.02064 4...\n"
     ]
    },
    {
     "data": {
      "text/plain": [
       "Getting data from the 2017-2021 5-year ACS\n",
       "Downloading feature geometry from the Census website.  To cache shapefiles for use in future sessions, set `options(tigris_use_cache = TRUE)`.\n",
       "Using FIPS code '36' for state 'NY'\n",
       "Using FIPS code '061' for 'New York County'\n",
       "Using FIPS code '047' for 'Kings County'\n",
       "Using FIPS code '081' for 'Queens County'\n",
       "Using FIPS code '005' for 'Bronx County'\n",
       "Using FIPS code '085' for 'Richmond County'\n"
      ]
     },
     "metadata": {},
     "output_type": "display_data"
    }
   ],
   "source": [
    "%%R \n",
    "# the variable B01003_001E was selectd from the census table \n",
    "# for population, which we found in censusreporter here:\n",
    "# https://censusreporter.org/tables/B01003/\n",
    "\n",
    "# in the table below, pick the geography, the variables, and the survey you want to pull from\n",
    "# see the possible values here https://walker-data.com/tidycensus/articles/basic-usage.html\n",
    "\n",
    "# Get variable from ACS\n",
    "nyc_census_data <- get_acs(geography = \"tract\", \n",
    "                      state='NY',\n",
    "                      county = c(\"New York\", \"Kings\", \"Queens\", \"Bronx\", \"Richmond\"),\n",
    "                      variables = c(\n",
    "                        population=\"B01003_001\", \n",
    "                        med_earn=\"B19013_001\", # Median household income in the past 12 months\n",
    "                        sub_pop='B08301_012', # Population using subway or elevated rail to work\n",
    "                        amb_pop='B18105_001' # Population with Ambulatory Difficulty\n",
    "                      ), \n",
    "                      year = 2021,\n",
    "                      survey=\"acs5\",\n",
    "                      geometry=T)\n",
    "options(width = 1000)\n",
    "\n",
    "nyc_census_data"
   ]
  },
  {
   "cell_type": "markdown",
   "metadata": {},
   "source": [
    "## 👉 Merge it with your data\n",
    "\n",
    "hint...`tidycensus` provides you data in long format you may need to pivot the census data from long to wide format before merging it with your data"
   ]
  },
  {
   "cell_type": "code",
   "execution_count": 11,
   "metadata": {},
   "outputs": [
    {
     "name": "stdout",
     "output_type": "stream",
     "text": [
      "Simple feature collection with 2327 features and 10 fields (with 1 geometry empty)\n",
      "Geometry type: MULTIPOLYGON\n",
      "Dimension:     XY\n",
      "Bounding box:  xmin: -74.25609 ymin: 40.4961 xmax: -73.70036 ymax: 40.91771\n",
      "Geodetic CRS:  NAD83\n",
      "# A tibble: 2,327 × 11\n",
      "   GEOID       NAME                                                                                                                       geometry population_estimate sub_pop_estimate amb_pop_estimate med_earn_estimate population_moe sub_pop_moe amb_pop_moe med_earn_moe\n",
      "   <chr>       <chr>                                                                                                            <MULTIPOLYGON [°]>               <dbl>            <dbl>            <dbl>             <dbl>          <dbl>       <dbl>       <dbl>        <dbl>\n",
      " 1 36081014700 Census Tract 147, Queens County, New York   (((-73.9137 40.76548, -73.9121 40.76473, -73.9113 40.76435, -73.9105 40.76398, -73.9...                2863              824             2738             71815            513         210         508        18034\n",
      " 2 36047058400 Census Tract 584, Kings County, New York    (((-73.96103 40.59616, -73.95978 40.5963, -73.95878 40.59641, -73.95785 40.59651, -7...                3655              665             3478             67315            529         188         523        10294\n",
      " 3 36061006900 Census Tract 69, New York County, New York  (((-74.02064 40.73039, -74.02006 40.73276, -74.011 40.73232, -74.01026 40.7324, -74....                2450              496             2306            237500            372         105         335        65948\n",
      " 4 36047073000 Census Tract 730, Kings County, New York    (((-73.93345 40.6257, -73.93149 40.62559, -73.93174 40.62793, -73.92786 40.62817, -7...                2676              359             2546            117857            534         251         511        22319\n",
      " 5 36047100400 Census Tract 1004, Kings County, New York   (((-73.90735 40.63083, -73.90415 40.63295, -73.90233 40.63132, -73.90051 40.62969, -...                3004              402             2805             76207            473         162         454        13504\n",
      " 6 36047055700 Census Tract 557, Kings County, New York    (((-73.96279 40.72256, -73.96264 40.72275, -73.96154 40.72388, -73.96161 40.72495, -...                1834              723             1711            107410            324         133         307        37032\n",
      " 7 36005022101 Census Tract 221.01, Bronx County, New York (((-73.92012 40.83759, -73.9197 40.83787, -73.91859 40.83898, -73.91768 40.84022, -7...                4030              589             3765             37200            832         183         809        15878\n",
      " 8 36081047000 Census Tract 470, Queens County, New York   (((-73.78059 40.71343, -73.778 40.71405, -73.77712 40.71426, -73.77537 40.71168, -73...                3637              422             3369             50000            673         143         586        36794\n",
      " 9 36047050402 Census Tract 504.02, Kings County, New York (((-73.97496 40.6478, -73.9735 40.6476, -73.9714 40.64826, -73.97121 40.64762, -73.9...                1758              622             1673            134602            719         391         716        71643\n",
      "10 36047028501 Census Tract 285.01, Kings County, New York (((-73.94439 40.70043, -73.94193 40.70072, -73.94115 40.70028, -73.9389 40.69904, -7...                 356              181              344             50278            100          60          99        15242\n",
      "# ℹ 2,317 more rows\n",
      "# ℹ Use `print(n = ...)` to see more rows\n"
     ]
    }
   ],
   "source": [
    "%%R\n",
    "\n",
    "# pivot from long to wide\n",
    "nyc_census_data <- nyc_census_data %>% \n",
    "  pivot_wider(\n",
    "    names_from = variable, \n",
    "    values_from = c(estimate, moe),\n",
    "    names_glue = \"{variable}_{.value}\"\n",
    "  )\n",
    "options(width = 1000)\n",
    "nyc_census_data"
   ]
  },
  {
   "cell_type": "code",
   "execution_count": 12,
   "metadata": {},
   "outputs": [
    {
     "name": "stdout",
     "output_type": "stream",
     "text": [
      "# A tibble: 6,936 × 43\n",
      "   Month      Borough_x `Equipment Type` `Equipment Code` `Total Outages` `Scheduled Outages` `Unscheduled Outages` Entrapments `Time Since Major Improvement` `AM Peak Availability` `AM Peak Hours Available` `AM Peak Total Hours` `PM Peak Availability` `PM Peak Hours Available` `PM Peak Total Hours` `24-Hour Availability` `24-Hour Hours Available` `24-Hour Total Hours` `Station Name`                   `Station MRN` `Station Complex Name`                       `Station Complex MRN` `Station ID` `Complex ID` `GTFS Stop ID` Division Line                `Stop Name`              Borough_y `Daytime Routes` Structure   lat  long `North Direction Label` `South Direction Label`                        ADA `ADA Notes` Georeference                   GEOID STATE COUNTY TRACT  BLOCK\n",
      "   <chr>      <chr>     <chr>            <chr>                      <dbl>               <dbl>                 <dbl>       <dbl>                          <dbl>                  <dbl>                     <dbl>                 <dbl>                  <dbl>                     <dbl>                 <dbl>                  <dbl>                     <dbl>                 <dbl> <chr>                                    <dbl> <chr>                                                        <dbl>        <dbl>        <dbl> <chr>          <chr>    <chr>               <chr>                    <chr>     <chr>            <chr>     <dbl> <dbl> <chr>                   <chr>                                        <dbl> <chr>       <chr>                          <dbl> <dbl> <chr>  <chr>  <dbl>\n",
      " 1 01/01/2023 Brooklyn  Elevator         EL301                          4                   2                     2           2                            225                  0.979                      121.                   124                  0.945                      117.                   124                  0.978                      728.                   744 ATLANTICAV-BARCLAYSCTR-4AV-D/N/R            27 Atlantic Av (B,Q,2,3,4,5)/Pacific St (D,N,R)                   617           27          617 R31            BMT      4th Av              Atlantic Av-Barclays Ctr Bk        D N R            Subway     40.7 -74.0 Manhattan               Coney Island - Bay Ridge                         1 <NA>        POINT (-73.97881 40.683666)  3.60e14    36 047    003900  3001\n",
      " 2 01/01/2023 Brooklyn  Elevator         EL301                          4                   2                     2           2                            225                  0.979                      121.                   124                  0.945                      117.                   124                  0.978                      728.                   744 ATLANTICAV-BARCLAYSCTR-4AV-D/N/R            27 Atlantic Av (B,Q,2,3,4,5)/Pacific St (D,N,R)                   617           40          617 D24            BMT      Broadway - Brighton Atlantic Av-Barclays Ctr Bk        B Q              Subway     40.7 -74.0 Manhattan               Brighton Beach & Coney Island                    1 <NA>        POINT (-73.97689 40.68446)   3.60e14    36 047    003500  1003\n",
      " 3 01/01/2023 Brooklyn  Elevator         EL301                          4                   2                     2           2                            225                  0.979                      121.                   124                  0.945                      117.                   124                  0.978                      728.                   744 ATLANTICAV-BARCLAYSCTR-4AV-D/N/R            27 Atlantic Av (B,Q,2,3,4,5)/Pacific St (D,N,R)                   617          338          617 235            IRT      Eastern Pky         Atlantic Av-Barclays Ctr Bk        2 3 4 5          Subway     40.7 -74.0 Manhattan               Flatbush - New Lots                              1 <NA>        POINT (-73.977666 40.684359) 3.60e14    36 047    003500  1003\n",
      " 4 01/01/2023 Brooklyn  Elevator         EL709                          6                   2                     4           0                            145                  0.985                      122.                   124                  0.975                      121.                   124                  0.971                      723.                   744 JAYST-METROTECH-BWY-R                       25 Jay St-MetroTech (A,C,F,R)                                     636           25          636 R29            BMT      Broadway            Jay St-MetroTech         Bk        R                Subway     40.7 -74.0 Manhattan               Bay Ridge - 95 St                                1 <NA>        POINT (-73.985942 40.69218)  3.60e14    36 047    001100  1011\n",
      " 5 01/01/2023 Brooklyn  Elevator         EL709                          6                   2                     4           0                            145                  0.985                      122.                   124                  0.975                      121.                   124                  0.971                      723.                   744 JAYST-METROTECH-BWY-R                       25 Jay St-MetroTech (A,C,F,R)                                     636          174          636 A41            IND      8th Av - Fulton St  Jay St-MetroTech         Bk        A C F            Subway     40.7 -74.0 Manhattan               Euclid - Lefferts - Rockaways - Coney Island     1 <NA>        POINT (-73.987342 40.692338) 3.60e14    36 047    001100  1001\n",
      " 6 01/01/2023 Brooklyn  Elevator         EL376                          1                   1                     0           0                            126                  1                          124                    124                  1                          124                    124                  0.993                      739.                   744 BAYPKWY-WST-D                               68 Bay Pkwy - Station                                              68           68           68 B21            BMT      West End            Bay Pkwy                 Bk        D                Elevated   40.6 -74.0 Manhattan               Coney Island                                     1 <NA>        POINT (-73.993728 40.601875) 3.60e14    36 047    029600  2002\n",
      " 7 01/01/2023 Brooklyn  Elevator         EL738                          6                   5                     1           1                             42                  0.944                      117.                   124                  1                          124                    124                  0.971                      723.                   744 NEWUTRECHTAV-SEA-N                          73 New Utrecht Av (N)/62 St (D)                                   615           63          615 B16            BMT      West End            62 St                    Bk        D                Elevated   40.6 -74.0 Manhattan               Coney Island                                     1 <NA>        POINT (-73.996895 40.626472) 3.60e14    36 047    025000  1000\n",
      " 8 01/01/2023 Brooklyn  Elevator         EL738                          6                   5                     1           1                             42                  0.944                      117.                   124                  1                          124                    124                  0.971                      723.                   744 NEWUTRECHTAV-SEA-N                          73 New Utrecht Av (N)/62 St (D)                                   615           73          615 N04            BMT      Sea Beach           New Utrecht Av           Bk        N                Open Cut   40.6 -74.0 Manhattan               Coney Island                                     1 <NA>        POINT (-73.996353 40.624842) 3.60e14    36 047    025000  1003\n",
      " 9 01/01/2023 Manhattan Elevator         EL334                          4                   2                     2           1                            213                  0.968                      120                    124                  0.981                      122.                   124                  0.967                      720.                   744 W4ST-WASHSQ-8AV-A/B/C/D/E/F/M              167 W 4 St-Wash Sq - Station                                       167          167          167 A32            IND      8th Av - Fulton St  W 4 St-Wash Sq           M         A C E            Subway     40.7 -74.0 Uptown - Queens         Downtown & Brooklyn                              1 <NA>        POINT (-74.000495 40.732338) 3.61e14    36 061    007100  5002\n",
      "10 01/01/2023 Manhattan Elevator         EL334                          4                   2                     2           1                            213                  0.968                      120                    124                  0.981                      122.                   124                  0.967                      720.                   744 W4ST-WASHSQ-8AV-A/B/C/D/E/F/M              167 W 4 St-Wash Sq - Station                                       167          167          167 D20            IND      6th Av - Culver     W 4 St-Wash Sq           M         B D F M          Subway     40.7 -74.0 Uptown - Queens         Downtown & Brooklyn                              1 <NA>        POINT (-74.000495 40.732338) 3.61e14    36 061    007100  5002\n",
      "# ℹ 6,926 more rows\n",
      "# ℹ Use `print(n = ...)` to see more rows\n"
     ]
    }
   ],
   "source": [
    "%%R\n",
    "df"
   ]
  },
  {
   "cell_type": "code",
   "execution_count": 13,
   "metadata": {},
   "outputs": [],
   "source": [
    "%%R \n",
    "\n",
    "# keep the first 11 digits in df$GEOID\n",
    "df$GEOID <-  substr(df$GEOID, 1, 11) %>%\n",
    "    as.numeric(df$GEOID)\n",
    "\n",
    "# change df$GEOID to double\n",
    "nyc_census_data$GEOID <- as.numeric(nyc_census_data$GEOID)\n",
    "df$GEOID <- as.numeric(df$GEOID)\n",
    "    \n",
    "# merge nyc_census_data with df on GEOID\n",
    "df_census <- merge(df, nyc_census_data, by = \"GEOID\")"
   ]
  },
  {
   "cell_type": "code",
   "execution_count": null,
   "metadata": {},
   "outputs": [],
   "source": []
  },
  {
   "cell_type": "code",
   "execution_count": 1,
   "metadata": {},
   "outputs": [
    {
     "name": "stderr",
     "output_type": "stream",
     "text": [
      "UsageError: Cell magic `%%R` not found.\n"
     ]
    }
   ],
   "source": [
    "%%R \n",
    "df_census"
   ]
  },
  {
   "cell_type": "code",
   "execution_count": 15,
   "metadata": {},
   "outputs": [],
   "source": [
    "%%R \n",
    "write_csv(df_census, \"2023_subway_censusvar.csv\")"
   ]
  },
  {
   "cell_type": "code",
   "execution_count": null,
   "metadata": {},
   "outputs": [],
   "source": []
  }
 ],
 "metadata": {
  "kernelspec": {
   "display_name": "Python 3 (ipykernel)",
   "language": "python",
   "name": "python3"
  },
  "language_info": {
   "codemirror_mode": {
    "name": "ipython",
    "version": 3
   },
   "file_extension": ".py",
   "mimetype": "text/x-python",
   "name": "python",
   "nbconvert_exporter": "python",
   "pygments_lexer": "ipython3",
   "version": "3.11.7"
  }
 },
 "nbformat": 4,
 "nbformat_minor": 4
}
