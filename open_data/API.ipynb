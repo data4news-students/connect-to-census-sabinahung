{
 "cells": [
  {
   "cell_type": "code",
   "execution_count": 1,
   "metadata": {},
   "outputs": [],
   "source": [
    "import pandas as pd\n",
    "import requests\n",
    "from dotenv import load_dotenv\n",
    "import os"
   ]
  },
  {
   "cell_type": "code",
   "execution_count": null,
   "metadata": {},
   "outputs": [],
   "source": [
    "url = f\"https://data.ny.gov/resource/rc78-7x78.json?$limit=$query=SELECT%20month%2C%20borough%2C%20equipment_type%2C%20equipment_code%2C%20total_outages%2C%20scheduled_outages%2C%20unscheduled_outages%2C%20entrapments%2C%20time_since_major_improvement%2C%20am_peak_availability%2C%20am_peak_hours_available%2C%20am_peak_total_hours%2C%20pm_peak_availability%2C%20pm_peak_hours_available%2C%20pm_peak_total_hours%2C%20_24_hour_availability%2C%20_24_hour_hours_available%2C%20_24_hour_total_hours%2C%20station_name%2C%20station_mrn%2C%20station_complex_name%2C%20station_complex_mrn%20ORDER%20BY%20month%20DESC\"\n",
    "response = requests.get(url)\n",
    "data = response.json()\n",
    "data"
   ]
  }
 ],
 "metadata": {
  "kernelspec": {
   "display_name": "Python 3",
   "language": "python",
   "name": "python3"
  },
  "language_info": {
   "codemirror_mode": {
    "name": "ipython",
    "version": 3
   },
   "file_extension": ".py",
   "mimetype": "text/x-python",
   "name": "python",
   "nbconvert_exporter": "python",
   "pygments_lexer": "ipython3",
   "version": "3.11.7"
  }
 },
 "nbformat": 4,
 "nbformat_minor": 2
}
