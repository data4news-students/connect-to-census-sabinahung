{
 "cells": [
  {
   "cell_type": "markdown",
   "metadata": {},
   "source": [
    "# Notebook Title"
   ]
  },
  {
   "cell_type": "markdown",
   "metadata": {},
   "source": [
    "## Setup Python and R environment\n",
    "you can ignore this section"
   ]
  },
  {
   "cell_type": "code",
   "execution_count": 1,
   "metadata": {},
   "outputs": [],
   "source": [
    "%load_ext rpy2.ipython\n",
    "%load_ext autoreload\n",
    "%autoreload 2\n",
    "\n",
    "%matplotlib inline  \n",
    "from matplotlib import rcParams\n",
    "rcParams['figure.figsize'] = (16, 100)\n",
    "\n",
    "import warnings\n",
    "from rpy2.rinterface import RRuntimeWarning\n",
    "warnings.filterwarnings(\"ignore\") # Ignore all warnings\n",
    "# warnings.filterwarnings(\"ignore\", category=RRuntimeWarning) # Show some warnings\n",
    "\n",
    "import pandas as pd\n",
    "import numpy as np\n",
    "import matplotlib.pyplot as plt\n",
    "from IPython.display import display, HTML"
   ]
  },
  {
   "cell_type": "code",
   "execution_count": 2,
   "metadata": {},
   "outputs": [
    {
     "data": {
      "application/javascript": "// Disable auto-scrolling\nIPython.OutputArea.prototype._should_scroll = function(lines) {\n    return false;\n}\n",
      "text/plain": [
       "<IPython.core.display.Javascript object>"
      ]
     },
     "metadata": {},
     "output_type": "display_data"
    }
   ],
   "source": [
    "%%javascript\n",
    "// Disable auto-scrolling\n",
    "IPython.OutputArea.prototype._should_scroll = function(lines) {\n",
    "    return false;\n",
    "}"
   ]
  },
  {
   "cell_type": "code",
   "execution_count": 3,
   "metadata": {},
   "outputs": [
    {
     "name": "stdout",
     "output_type": "stream",
     "text": [
      "── Attaching core tidyverse packages ──────────────────────── tidyverse 2.0.0 ──\n",
      "✔ dplyr     1.1.4     ✔ readr     2.1.5\n",
      "✔ forcats   1.0.0     ✔ stringr   1.5.1\n",
      "✔ ggplot2   3.4.4     ✔ tibble    3.2.1\n",
      "✔ lubridate 1.9.3     ✔ tidyr     1.3.0\n",
      "✔ purrr     1.0.2     \n",
      "── Conflicts ────────────────────────────────────────── tidyverse_conflicts() ──\n",
      "✖ dplyr::filter() masks stats::filter()\n",
      "✖ dplyr::lag()    masks stats::lag()\n",
      "ℹ Use the conflicted package (<http://conflicted.r-lib.org/>) to force all conflicts to become errors\n"
     ]
    },
    {
     "data": {
      "text/plain": [
       "Loading required package: tidyverse\n"
      ]
     },
     "metadata": {},
     "output_type": "display_data"
    }
   ],
   "source": [
    "%%R\n",
    "\n",
    "# My commonly used R imports\n",
    "\n",
    "require('tidyverse')"
   ]
  },
  {
   "cell_type": "markdown",
   "metadata": {},
   "source": [
    "## Load & Clean Data\n",
    "\n",
    "👉 Load the data along with the census connectors below (the output of the `connect-to-census.ipynb` notebook) and do any cleanup you'd like to do."
   ]
  },
  {
   "cell_type": "code",
   "execution_count": 5,
   "metadata": {},
   "outputs": [
    {
     "name": "stdout",
     "output_type": "stream",
     "text": [
      "Rows: 18208 Columns: 40\n",
      "── Column specification ────────────────────────────────────────────────────────\n",
      "Delimiter: \",\"\n",
      "chr  (26): Common Name, Equipment Description, Executive Comment, Outage Cod...\n",
      "dbl  (10): Outage, Station MRN, Station ID, Complex ID, lat, long, ADA, GEOI...\n",
      "dttm  (4): Out of Service Date, Estimated Return to Service Date, Actual Ret...\n",
      "\n",
      "ℹ Use `spec()` to retrieve the full column specification for this data.\n",
      "ℹ Specify the column types or set `show_col_types = FALSE` to quiet this message.\n"
     ]
    }
   ],
   "source": [
    "%%R\n",
    "df <- read_csv('2023_subway_censusgeo.csv')"
   ]
  },
  {
   "cell_type": "code",
   "execution_count": 6,
   "metadata": {},
   "outputs": [],
   "source": [
    "df = pd.read_csv('2023_subway_censusgeo.csv')"
   ]
  },
  {
   "cell_type": "code",
   "execution_count": 7,
   "metadata": {},
   "outputs": [
    {
     "data": {
      "text/html": [
       "<div>\n",
       "<style scoped>\n",
       "    .dataframe tbody tr th:only-of-type {\n",
       "        vertical-align: middle;\n",
       "    }\n",
       "\n",
       "    .dataframe tbody tr th {\n",
       "        vertical-align: top;\n",
       "    }\n",
       "\n",
       "    .dataframe thead th {\n",
       "        text-align: right;\n",
       "    }\n",
       "</style>\n",
       "<table border=\"1\" class=\"dataframe\">\n",
       "  <thead>\n",
       "    <tr style=\"text-align: right;\">\n",
       "      <th></th>\n",
       "      <th>Out of Service Date</th>\n",
       "      <th>Common Name</th>\n",
       "      <th>Outage</th>\n",
       "      <th>Equipment Description</th>\n",
       "      <th>Executive Comment</th>\n",
       "      <th>Outage Code</th>\n",
       "      <th>Status</th>\n",
       "      <th>External Source Note</th>\n",
       "      <th>Reason Shown to Public</th>\n",
       "      <th>Reason Shown to Public Description</th>\n",
       "      <th>Estimated Return to Service Date</th>\n",
       "      <th>Actual Return to Service Date</th>\n",
       "      <th>Reference</th>\n",
       "      <th>Source</th>\n",
       "      <th>Service Code</th>\n",
       "      <th>Date Created</th>\n",
       "      <th>Status Code</th>\n",
       "      <th>Outage Comments</th>\n",
       "      <th>Station MRN</th>\n",
       "      <th>Station ID</th>\n",
       "      <th>Complex ID</th>\n",
       "      <th>GTFS Stop ID</th>\n",
       "      <th>Division</th>\n",
       "      <th>Line</th>\n",
       "      <th>Stop Name</th>\n",
       "      <th>Borough</th>\n",
       "      <th>Daytime Routes</th>\n",
       "      <th>Structure</th>\n",
       "      <th>lat</th>\n",
       "      <th>long</th>\n",
       "      <th>North Direction Label</th>\n",
       "      <th>South Direction Label</th>\n",
       "      <th>ADA</th>\n",
       "      <th>ADA Notes</th>\n",
       "      <th>Georeference</th>\n",
       "      <th>GEOID</th>\n",
       "      <th>STATE</th>\n",
       "      <th>COUNTY</th>\n",
       "      <th>TRACT</th>\n",
       "      <th>BLOCK</th>\n",
       "    </tr>\n",
       "  </thead>\n",
       "  <tbody>\n",
       "    <tr>\n",
       "      <th>0</th>\n",
       "      <td>2023-01-01 00:14:00</td>\n",
       "      <td>EL376</td>\n",
       "      <td>791238</td>\n",
       "      <td>ELE: EL376 - 068 - Bay Pkwy - Outside Area</td>\n",
       "      <td>NaN</td>\n",
       "      <td>PM</td>\n",
       "      <td>Closed</td>\n",
       "      <td>NaN</td>\n",
       "      <td>MAINTENANCE</td>\n",
       "      <td>Maintenance</td>\n",
       "      <td>2023-01-01 07:00:00</td>\n",
       "      <td>2023-01-01 05:30:00</td>\n",
       "      <td>NaN</td>\n",
       "      <td>Phone</td>\n",
       "      <td>EE-MANOUT</td>\n",
       "      <td>2023-01-01 00:14:00</td>\n",
       "      <td>CL</td>\n",
       "      <td>***This Elevator is out of service for Mainten...</td>\n",
       "      <td>68</td>\n",
       "      <td>68</td>\n",
       "      <td>68</td>\n",
       "      <td>B21</td>\n",
       "      <td>BMT</td>\n",
       "      <td>West End</td>\n",
       "      <td>Bay Pkwy</td>\n",
       "      <td>Bk</td>\n",
       "      <td>D</td>\n",
       "      <td>Elevated</td>\n",
       "      <td>40.601875</td>\n",
       "      <td>-73.993728</td>\n",
       "      <td>Manhattan</td>\n",
       "      <td>Coney Island</td>\n",
       "      <td>1</td>\n",
       "      <td>NaN</td>\n",
       "      <td>POINT (-73.993728 40.601875)</td>\n",
       "      <td>360470296002002</td>\n",
       "      <td>36</td>\n",
       "      <td>47</td>\n",
       "      <td>29600</td>\n",
       "      <td>2002</td>\n",
       "    </tr>\n",
       "    <tr>\n",
       "      <th>1</th>\n",
       "      <td>2023-01-01 01:04:00</td>\n",
       "      <td>EL189</td>\n",
       "      <td>791257</td>\n",
       "      <td>ELE: EL189 - 212 - Kingsbridge Rd - Outside Area</td>\n",
       "      <td>NaN</td>\n",
       "      <td>AP</td>\n",
       "      <td>Closed</td>\n",
       "      <td>NaN</td>\n",
       "      <td>PLANNEDWORK</td>\n",
       "      <td>Planned Work</td>\n",
       "      <td>2023-01-01 09:00:00</td>\n",
       "      <td>2023-01-01 01:18:00</td>\n",
       "      <td>NaN</td>\n",
       "      <td>Phone</td>\n",
       "      <td>EE-MANOUT</td>\n",
       "      <td>2023-01-01 01:05:00</td>\n",
       "      <td>CL</td>\n",
       "      <td>\\n\\n***This elevator is out of service for Acc...</td>\n",
       "      <td>212</td>\n",
       "      <td>212</td>\n",
       "      <td>212</td>\n",
       "      <td>D04</td>\n",
       "      <td>IND</td>\n",
       "      <td>Concourse</td>\n",
       "      <td>Kingsbridge Rd</td>\n",
       "      <td>Bx</td>\n",
       "      <td>B D</td>\n",
       "      <td>Subway</td>\n",
       "      <td>40.866978</td>\n",
       "      <td>-73.893509</td>\n",
       "      <td>Bedford Pk Blvd &amp; 205 St</td>\n",
       "      <td>Manhattan</td>\n",
       "      <td>1</td>\n",
       "      <td>NaN</td>\n",
       "      <td>POINT (-73.893509 40.866978)</td>\n",
       "      <td>360050403021003</td>\n",
       "      <td>36</td>\n",
       "      <td>5</td>\n",
       "      <td>40302</td>\n",
       "      <td>1003</td>\n",
       "    </tr>\n",
       "    <tr>\n",
       "      <th>2</th>\n",
       "      <td>2023-01-01 02:01:00</td>\n",
       "      <td>EL293</td>\n",
       "      <td>791274</td>\n",
       "      <td>ELE: EL293 - 119 - 1 Av - Brooklyn Bound Platform</td>\n",
       "      <td>NaN</td>\n",
       "      <td>EUF</td>\n",
       "      <td>Closed</td>\n",
       "      <td>UPS Battery Failure</td>\n",
       "      <td>REPAIR</td>\n",
       "      <td>Repair</td>\n",
       "      <td>2023-01-01 11:00:00</td>\n",
       "      <td>2023-01-01 04:50:00</td>\n",
       "      <td>ST230101.txt - 192</td>\n",
       "      <td>External Monitoring System</td>\n",
       "      <td>EE-LNOUT</td>\n",
       "      <td>2023-01-01 02:08:00</td>\n",
       "      <td>CL</td>\n",
       "      <td>NaN</td>\n",
       "      <td>119</td>\n",
       "      <td>119</td>\n",
       "      <td>119</td>\n",
       "      <td>L06</td>\n",
       "      <td>BMT</td>\n",
       "      <td>Canarsie</td>\n",
       "      <td>1 Av</td>\n",
       "      <td>M</td>\n",
       "      <td>L</td>\n",
       "      <td>Subway</td>\n",
       "      <td>40.730953</td>\n",
       "      <td>-73.981628</td>\n",
       "      <td>8 Av</td>\n",
       "      <td>Brooklyn</td>\n",
       "      <td>1</td>\n",
       "      <td>NaN</td>\n",
       "      <td>POINT (-73.981628 40.730953)</td>\n",
       "      <td>360610034004000</td>\n",
       "      <td>36</td>\n",
       "      <td>61</td>\n",
       "      <td>3400</td>\n",
       "      <td>4000</td>\n",
       "    </tr>\n",
       "    <tr>\n",
       "      <th>3</th>\n",
       "      <td>2023-01-01 02:08:00</td>\n",
       "      <td>EL449X</td>\n",
       "      <td>791275</td>\n",
       "      <td>ELE: EL449X - 279 - Sutphin Blvd-Archer Av - Mezz</td>\n",
       "      <td>NaN</td>\n",
       "      <td>TPE</td>\n",
       "      <td>Closed</td>\n",
       "      <td>NaN</td>\n",
       "      <td>REPAIR</td>\n",
       "      <td>Repair</td>\n",
       "      <td>2023-01-05 14:00:00</td>\n",
       "      <td>2023-01-05 03:06:00</td>\n",
       "      <td>NaN</td>\n",
       "      <td>Phone</td>\n",
       "      <td>EE-MANOUT</td>\n",
       "      <td>2023-01-01 02:09:00</td>\n",
       "      <td>CL</td>\n",
       "      <td>***This elevator is out of service as reported...</td>\n",
       "      <td>279</td>\n",
       "      <td>279</td>\n",
       "      <td>279</td>\n",
       "      <td>G06</td>\n",
       "      <td>IND</td>\n",
       "      <td>Queens - Archer</td>\n",
       "      <td>Sutphin Blvd-Archer Av-JFK Airport</td>\n",
       "      <td>Q</td>\n",
       "      <td>E J Z</td>\n",
       "      <td>Subway</td>\n",
       "      <td>40.700486</td>\n",
       "      <td>-73.807969</td>\n",
       "      <td>Jamaica Center</td>\n",
       "      <td>Manhattan</td>\n",
       "      <td>1</td>\n",
       "      <td>NaN</td>\n",
       "      <td>POINT (-73.807969 40.700486)</td>\n",
       "      <td>360810208001000</td>\n",
       "      <td>36</td>\n",
       "      <td>81</td>\n",
       "      <td>20800</td>\n",
       "      <td>1000</td>\n",
       "    </tr>\n",
       "    <tr>\n",
       "      <th>4</th>\n",
       "      <td>2023-01-01 05:43:00</td>\n",
       "      <td>EL428</td>\n",
       "      <td>791299</td>\n",
       "      <td>ELE: EL428 - 273 - Queens Plaza - Outside Area</td>\n",
       "      <td>NaN</td>\n",
       "      <td>VAN</td>\n",
       "      <td>Closed</td>\n",
       "      <td>NaN</td>\n",
       "      <td>REPAIR</td>\n",
       "      <td>Repair</td>\n",
       "      <td>2023-01-01 13:00:00</td>\n",
       "      <td>2023-01-01 09:10:00</td>\n",
       "      <td>NaN</td>\n",
       "      <td>Phone</td>\n",
       "      <td>EE-MANOUT</td>\n",
       "      <td>2023-01-01 05:44:00</td>\n",
       "      <td>CL</td>\n",
       "      <td>NaN</td>\n",
       "      <td>273</td>\n",
       "      <td>273</td>\n",
       "      <td>273</td>\n",
       "      <td>G21</td>\n",
       "      <td>IND</td>\n",
       "      <td>Queens Blvd</td>\n",
       "      <td>Queens Plaza</td>\n",
       "      <td>Q</td>\n",
       "      <td>E M R</td>\n",
       "      <td>Subway</td>\n",
       "      <td>40.748973</td>\n",
       "      <td>-73.937243</td>\n",
       "      <td>Forest Hills - Jamaica</td>\n",
       "      <td>Manhattan</td>\n",
       "      <td>1</td>\n",
       "      <td>NaN</td>\n",
       "      <td>POINT (-73.937243 40.748973)</td>\n",
       "      <td>360810033011019</td>\n",
       "      <td>36</td>\n",
       "      <td>81</td>\n",
       "      <td>3301</td>\n",
       "      <td>1019</td>\n",
       "    </tr>\n",
       "  </tbody>\n",
       "</table>\n",
       "</div>"
      ],
      "text/plain": [
       "   Out of Service Date Common Name  Outage  \\\n",
       "0  2023-01-01 00:14:00       EL376  791238   \n",
       "1  2023-01-01 01:04:00       EL189  791257   \n",
       "2  2023-01-01 02:01:00       EL293  791274   \n",
       "3  2023-01-01 02:08:00      EL449X  791275   \n",
       "4  2023-01-01 05:43:00       EL428  791299   \n",
       "\n",
       "                               Equipment Description Executive Comment  \\\n",
       "0         ELE: EL376 - 068 - Bay Pkwy - Outside Area               NaN   \n",
       "1   ELE: EL189 - 212 - Kingsbridge Rd - Outside Area               NaN   \n",
       "2  ELE: EL293 - 119 - 1 Av - Brooklyn Bound Platform               NaN   \n",
       "3  ELE: EL449X - 279 - Sutphin Blvd-Archer Av - Mezz               NaN   \n",
       "4     ELE: EL428 - 273 - Queens Plaza - Outside Area               NaN   \n",
       "\n",
       "  Outage Code  Status External Source Note Reason Shown to Public  \\\n",
       "0          PM  Closed                  NaN            MAINTENANCE   \n",
       "1          AP  Closed                  NaN            PLANNEDWORK   \n",
       "2         EUF  Closed  UPS Battery Failure                 REPAIR   \n",
       "3         TPE  Closed                  NaN                 REPAIR   \n",
       "4         VAN  Closed                  NaN                 REPAIR   \n",
       "\n",
       "  Reason Shown to Public Description Estimated Return to Service Date  \\\n",
       "0                        Maintenance              2023-01-01 07:00:00   \n",
       "1                       Planned Work              2023-01-01 09:00:00   \n",
       "2                             Repair              2023-01-01 11:00:00   \n",
       "3                             Repair              2023-01-05 14:00:00   \n",
       "4                             Repair              2023-01-01 13:00:00   \n",
       "\n",
       "  Actual Return to Service Date           Reference  \\\n",
       "0           2023-01-01 05:30:00                 NaN   \n",
       "1           2023-01-01 01:18:00                 NaN   \n",
       "2           2023-01-01 04:50:00  ST230101.txt - 192   \n",
       "3           2023-01-05 03:06:00                 NaN   \n",
       "4           2023-01-01 09:10:00                 NaN   \n",
       "\n",
       "                       Source Service Code         Date Created Status Code  \\\n",
       "0                       Phone    EE-MANOUT  2023-01-01 00:14:00          CL   \n",
       "1                       Phone    EE-MANOUT  2023-01-01 01:05:00          CL   \n",
       "2  External Monitoring System     EE-LNOUT  2023-01-01 02:08:00          CL   \n",
       "3                       Phone    EE-MANOUT  2023-01-01 02:09:00          CL   \n",
       "4                       Phone    EE-MANOUT  2023-01-01 05:44:00          CL   \n",
       "\n",
       "                                     Outage Comments  Station MRN  Station ID  \\\n",
       "0  ***This Elevator is out of service for Mainten...           68          68   \n",
       "1  \\n\\n***This elevator is out of service for Acc...          212         212   \n",
       "2                                                NaN          119         119   \n",
       "3  ***This elevator is out of service as reported...          279         279   \n",
       "4                                                NaN          273         273   \n",
       "\n",
       "   Complex ID GTFS Stop ID Division             Line  \\\n",
       "0          68          B21      BMT         West End   \n",
       "1         212          D04      IND        Concourse   \n",
       "2         119          L06      BMT         Canarsie   \n",
       "3         279          G06      IND  Queens - Archer   \n",
       "4         273          G21      IND      Queens Blvd   \n",
       "\n",
       "                            Stop Name Borough Daytime Routes Structure  \\\n",
       "0                            Bay Pkwy      Bk              D  Elevated   \n",
       "1                      Kingsbridge Rd      Bx            B D    Subway   \n",
       "2                                1 Av       M              L    Subway   \n",
       "3  Sutphin Blvd-Archer Av-JFK Airport       Q          E J Z    Subway   \n",
       "4                        Queens Plaza       Q          E M R    Subway   \n",
       "\n",
       "         lat       long     North Direction Label South Direction Label  ADA  \\\n",
       "0  40.601875 -73.993728                 Manhattan          Coney Island    1   \n",
       "1  40.866978 -73.893509  Bedford Pk Blvd & 205 St             Manhattan    1   \n",
       "2  40.730953 -73.981628                      8 Av              Brooklyn    1   \n",
       "3  40.700486 -73.807969            Jamaica Center             Manhattan    1   \n",
       "4  40.748973 -73.937243    Forest Hills - Jamaica             Manhattan    1   \n",
       "\n",
       "  ADA Notes                  Georeference            GEOID  STATE  COUNTY  \\\n",
       "0       NaN  POINT (-73.993728 40.601875)  360470296002002     36      47   \n",
       "1       NaN  POINT (-73.893509 40.866978)  360050403021003     36       5   \n",
       "2       NaN  POINT (-73.981628 40.730953)  360610034004000     36      61   \n",
       "3       NaN  POINT (-73.807969 40.700486)  360810208001000     36      81   \n",
       "4       NaN  POINT (-73.937243 40.748973)  360810033011019     36      81   \n",
       "\n",
       "   TRACT  BLOCK  \n",
       "0  29600   2002  \n",
       "1  40302   1003  \n",
       "2   3400   4000  \n",
       "3  20800   1000  \n",
       "4   3301   1019  "
      ]
     },
     "execution_count": 7,
     "metadata": {},
     "output_type": "execute_result"
    }
   ],
   "source": [
    "\n",
    "pd.set_option('display.max_columns', None)\n",
    "df.head()\n"
   ]
  },
  {
   "cell_type": "markdown",
   "metadata": {},
   "source": [
    "## 👉 Grab Census Data"
   ]
  },
  {
   "cell_type": "markdown",
   "metadata": {},
   "source": [
    "1. loading the Census API key"
   ]
  },
  {
   "cell_type": "code",
   "execution_count": 8,
   "metadata": {},
   "outputs": [
    {
     "data": {
      "text/plain": [
       "True"
      ]
     },
     "execution_count": 8,
     "metadata": {},
     "output_type": "execute_result"
    }
   ],
   "source": [
    "import dotenv\n",
    "\n",
    "# Load the environment variables\n",
    "# (loads CENSUS_API_KEY from .env)\n",
    "dotenv.load_dotenv()\n"
   ]
  },
  {
   "cell_type": "code",
   "execution_count": 9,
   "metadata": {},
   "outputs": [
    {
     "data": {
      "text/plain": [
       "Loading required package: tidycensus\n",
       "To install your API key for use in future sessions, run this function with `install = TRUE`.\n"
      ]
     },
     "metadata": {},
     "output_type": "display_data"
    }
   ],
   "source": [
    "%%R \n",
    "\n",
    "require('tidycensus')\n",
    "\n",
    "# because it an environment variable, we don't have to \n",
    "# explicitly pass this string to R, it is readable here\n",
    "# in this R cell.\n",
    "census_api_key(Sys.getenv(\"CENSUS_API_KEY\"))"
   ]
  },
  {
   "cell_type": "markdown",
   "metadata": {},
   "source": [
    "2. Decide which Census variables you want\n",
    "\n",
    "    Use <https://censusreporter.org/> to figure out which tables you want. (if censusreporter is down, check out the code in the cell below)\n",
    "\n",
    "    -   Scroll to the bottom of the page to see the tables.\n",
    "    -   If you already know the table ID, stick that in the \"Explore\" section to learn more about that table.\n",
    "\n",
    "    By default this code loads (B01003_001) which we found in censusreporter here: https://censusreporter.org/tables/B01003/\n",
    "\n",
    "    - find some other variables that you're also interested in\n",
    "    - don't forget to pick a geography like \"tract\", \"county\" or \"block group\". here is the list of [all geographies](https://walker-data.com/tidycensus/articles/basic-usage.html#geography-in-tidycensus\n",
    "    ).\n"
   ]
  },
  {
   "cell_type": "code",
   "execution_count": 10,
   "metadata": {},
   "outputs": [
    {
     "name": "stdout",
     "output_type": "stream",
     "text": [
      "# A tibble: 46 × 3\n",
      "   name         label                                                    concept\n",
      "   <chr>        <chr>                                                    <chr>  \n",
      " 1 B06011PR_001 Estimate!!Median income in the past 12 months --!!Total: MEDIAN…\n",
      " 2 B06011PR_002 Estimate!!Median income in the past 12 months --!!Total… MEDIAN…\n",
      " 3 B06011PR_003 Estimate!!Median income in the past 12 months --!!Total… MEDIAN…\n",
      " 4 B06011PR_004 Estimate!!Median income in the past 12 months --!!Total… MEDIAN…\n",
      " 5 B06011PR_005 Estimate!!Median income in the past 12 months --!!Total… MEDIAN…\n",
      " 6 B06011_001   Estimate!!Median income in the past 12 months --!!Total: MEDIAN…\n",
      " 7 B06011_002   Estimate!!Median income in the past 12 months --!!Total… MEDIAN…\n",
      " 8 B06011_003   Estimate!!Median income in the past 12 months --!!Total… MEDIAN…\n",
      " 9 B06011_004   Estimate!!Median income in the past 12 months --!!Total… MEDIAN…\n",
      "10 B06011_005   Estimate!!Median income in the past 12 months --!!Total… MEDIAN…\n",
      "11 B07011PR_001 Estimate!!Median income in the past 12 months --!!Total: MEDIAN…\n",
      "12 B07011PR_002 Estimate!!Median income in the past 12 months --!!Total… MEDIAN…\n",
      "13 B07011PR_003 Estimate!!Median income in the past 12 months --!!Total… MEDIAN…\n",
      "14 B07011PR_004 Estimate!!Median income in the past 12 months --!!Total… MEDIAN…\n",
      "15 B07011PR_005 Estimate!!Median income in the past 12 months --!!Total… MEDIAN…\n",
      "16 B07011PR_006 Estimate!!Median income in the past 12 months --!!Total… MEDIAN…\n",
      "17 B07011_001   Estimate!!Median income in the past 12 months --!!Total: MEDIAN…\n",
      "18 B07011_002   Estimate!!Median income in the past 12 months --!!Total… MEDIAN…\n",
      "19 B07011_003   Estimate!!Median income in the past 12 months --!!Total… MEDIAN…\n",
      "20 B07011_004   Estimate!!Median income in the past 12 months --!!Total… MEDIAN…\n",
      "# ℹ 26 more rows\n",
      "# ℹ Use `print(n = ...)` to see more rows\n"
     ]
    }
   ],
   "source": [
    "%%R \n",
    "\n",
    "# Finding the Census Varaibles for the ACS 5 year survey\n",
    "# Generally you'd do this in CensusReporter, but since it's down sometimes, here it is using tidycensus's load_variables function\n",
    "\n",
    "# get every single variable in the ACS5\n",
    "all_census_vars <- load_variables(2021, \"acs5\", cache = TRUE) \n",
    "\n",
    "filtered_census_vars <- all_census_vars %>% \n",
    "    filter(grepl(\"median income\", label, ignore.case = TRUE))   # filter to those containing \"median income\"\n",
    "    \n",
    "# write to CSV so we can view it in python\n",
    "filtered_census_vars %>% \n",
    "    write_csv(\"filtered_census_vars.csv\")\n",
    "\n",
    "# show the first few rows\n",
    "filtered_census_vars %>%\n",
    "    select(-geography) %>% # remove the geography column\n",
    "    print(n = 20) # print the first 20 rows"
   ]
  },
  {
   "cell_type": "code",
   "execution_count": 11,
   "metadata": {},
   "outputs": [
    {
     "name": "stdout",
     "output_type": "stream",
     "text": [
      "  |======================================================================| 100%\n",
      "Simple feature collection with 4654 features and 5 fields (with 2 geometries empty)\n",
      "Geometry type: MULTIPOLYGON\n",
      "Dimension:     XY\n",
      "Bounding box:  xmin: -74.25609 ymin: 40.4961 xmax: -73.70036 ymax: 40.91771\n",
      "Geodetic CRS:  NAD83\n",
      "First 10 features:\n",
      "         GEOID                                       NAME   variable estimate\n",
      "1  36081014700  Census Tract 147, Queens County, New York population     2863\n",
      "2  36081014700  Census Tract 147, Queens County, New York   med_earn    44306\n",
      "3  36047058400   Census Tract 584, Kings County, New York population     3655\n",
      "4  36047058400   Census Tract 584, Kings County, New York   med_earn       NA\n",
      "5  36061006900 Census Tract 69, New York County, New York population     2450\n",
      "6  36061006900 Census Tract 69, New York County, New York   med_earn       NA\n",
      "7  36047073000   Census Tract 730, Kings County, New York population     2676\n",
      "8  36047073000   Census Tract 730, Kings County, New York   med_earn       NA\n",
      "9  36047100400  Census Tract 1004, Kings County, New York population     3004\n",
      "10 36047100400  Census Tract 1004, Kings County, New York   med_earn    49038\n",
      "     moe                       geometry\n",
      "1    513 MULTIPOLYGON (((-73.9137 40...\n",
      "2  40118 MULTIPOLYGON (((-73.9137 40...\n",
      "3    529 MULTIPOLYGON (((-73.96103 4...\n",
      "4     NA MULTIPOLYGON (((-73.96103 4...\n",
      "5    372 MULTIPOLYGON (((-74.02064 4...\n",
      "6     NA MULTIPOLYGON (((-74.02064 4...\n",
      "7    534 MULTIPOLYGON (((-73.93345 4...\n",
      "8     NA MULTIPOLYGON (((-73.93345 4...\n",
      "9    473 MULTIPOLYGON (((-73.90735 4...\n",
      "10 34895 MULTIPOLYGON (((-73.90735 4...\n"
     ]
    },
    {
     "data": {
      "text/plain": [
       "Getting data from the 2017-2021 5-year ACS\n",
       "Downloading feature geometry from the Census website.  To cache shapefiles for use in future sessions, set `options(tigris_use_cache = TRUE)`.\n",
       "Using FIPS code '36' for state 'NY'\n",
       "Using FIPS code '061' for 'New York County'\n",
       "Using FIPS code '047' for 'Kings County'\n",
       "Using FIPS code '081' for 'Queens County'\n",
       "Using FIPS code '005' for 'Bronx County'\n",
       "Using FIPS code '085' for 'Richmond County'\n"
      ]
     },
     "metadata": {},
     "output_type": "display_data"
    }
   ],
   "source": [
    "%%R \n",
    "# the variable B01003_001E was selectd from the census table \n",
    "# for population, which we found in censusreporter here:\n",
    "# https://censusreporter.org/tables/B01003/\n",
    "\n",
    "# in the table below, pick the geography, the variables, and the survey you want to pull from\n",
    "# see the possible values here https://walker-data.com/tidycensus/articles/basic-usage.html\n",
    "\n",
    "# Get variable from ACS\n",
    "nyc_census_data <- get_acs(geography = \"tract\", \n",
    "                      state='NY',\n",
    "                      county = c(\"New York\", \"Kings\", \"Queens\", \"Bronx\", \"Richmond\"),\n",
    "                      variables = c(\n",
    "                        population=\"B01003_001\",\n",
    "                        med_earn=\"B18140_002\" # Median Earnings with Disability \n",
    "                      ), \n",
    "                      year = 2021,\n",
    "                      survey=\"acs5\",\n",
    "                      geometry=T)\n",
    "\n",
    "nyc_census_data"
   ]
  },
  {
   "cell_type": "code",
   "execution_count": null,
   "metadata": {},
   "outputs": [],
   "source": []
  },
  {
   "cell_type": "markdown",
   "metadata": {},
   "source": [
    "## 👉 Merge it with your data\n",
    "\n",
    "hint...`tidycensus` provides you data in long format you may need to pivot the census data from long to wide format before merging it with your data"
   ]
  },
  {
   "cell_type": "code",
   "execution_count": 12,
   "metadata": {},
   "outputs": [
    {
     "name": "stdout",
     "output_type": "stream",
     "text": [
      "Simple feature collection with 2327 features and 6 fields (with 1 geometry empty)\n",
      "Geometry type: MULTIPOLYGON\n",
      "Dimension:     XY\n",
      "Bounding box:  xmin: -74.25609 ymin: 40.4961 xmax: -73.70036 ymax: 40.91771\n",
      "Geodetic CRS:  NAD83\n",
      "# A tibble: 2,327 × 7\n",
      "   GEOID       NAME                                                                                                                       geometry population_estimate med_earn_estimate population_moe med_earn_moe\n",
      "   <chr>       <chr>                                                                                                            <MULTIPOLYGON [°]>               <dbl>             <dbl>          <dbl>        <dbl>\n",
      " 1 36081014700 Census Tract 147, Queens County, New York   (((-73.9137 40.76548, -73.9121 40.76473, -73.9113 40.76435, -73.9105 40.76398, -73.9...                2863             44306            513        40118\n",
      " 2 36047058400 Census Tract 584, Kings County, New York    (((-73.96103 40.59616, -73.95978 40.5963, -73.95878 40.59641, -73.95785 40.59651, -7...                3655                NA            529           NA\n",
      " 3 36061006900 Census Tract 69, New York County, New York  (((-74.02064 40.73039, -74.02006 40.73276, -74.011 40.73232, -74.01026 40.7324, -74....                2450                NA            372           NA\n",
      " 4 36047073000 Census Tract 730, Kings County, New York    (((-73.93345 40.6257, -73.93149 40.62559, -73.93174 40.62793, -73.92786 40.62817, -7...                2676                NA            534           NA\n",
      " 5 36047100400 Census Tract 1004, Kings County, New York   (((-73.90735 40.63083, -73.90415 40.63295, -73.90233 40.63132, -73.90051 40.62969, -...                3004             49038            473        34895\n",
      " 6 36047055700 Census Tract 557, Kings County, New York    (((-73.96279 40.72256, -73.96264 40.72275, -73.96154 40.72388, -73.96161 40.72495, -...                1834                NA            324           NA\n",
      " 7 36005022101 Census Tract 221.01, Bronx County, New York (((-73.92012 40.83759, -73.9197 40.83787, -73.91859 40.83898, -73.91768 40.84022, -7...                4030                NA            832           NA\n",
      " 8 36081047000 Census Tract 470, Queens County, New York   (((-73.78059 40.71343, -73.778 40.71405, -73.77712 40.71426, -73.77537 40.71168, -73...                3637             26400            673        11682\n",
      " 9 36047050402 Census Tract 504.02, Kings County, New York (((-73.97496 40.6478, -73.9735 40.6476, -73.9714 40.64826, -73.97121 40.64762, -73.9...                1758                NA            719           NA\n",
      "10 36047028501 Census Tract 285.01, Kings County, New York (((-73.94439 40.70043, -73.94193 40.70072, -73.94115 40.70028, -73.9389 40.69904, -7...                 356                NA            100           NA\n",
      "# ℹ 2,317 more rows\n",
      "# ℹ Use `print(n = ...)` to see more rows\n"
     ]
    }
   ],
   "source": [
    "%%R\n",
    "\n",
    "# pivot from long to wide\n",
    "nyc_census_data <- nyc_census_data %>% \n",
    "  pivot_wider(\n",
    "    names_from = variable, \n",
    "    values_from = c(estimate, moe),\n",
    "    names_glue = \"{variable}_{.value}\"\n",
    "  )\n",
    "options(width = 1000)\n",
    "nyc_census_data"
   ]
  },
  {
   "cell_type": "code",
   "execution_count": 13,
   "metadata": {},
   "outputs": [
    {
     "name": "stdout",
     "output_type": "stream",
     "text": [
      "Simple feature collection with 988 features and 6 fields\n",
      "Geometry type: MULTIPOLYGON\n",
      "Dimension:     XY\n",
      "Bounding box:  xmin: -74.25609 ymin: 40.5023 xmax: -73.70036 ymax: 40.91489\n",
      "Geodetic CRS:  NAD83\n",
      "# A tibble: 988 × 7\n",
      "   GEOID       NAME                                                                                                                       geometry population_estimate med_earn_estimate population_moe med_earn_moe\n",
      "   <chr>       <chr>                                                                                                            <MULTIPOLYGON [°]>               <dbl>             <dbl>          <dbl>        <dbl>\n",
      " 1 36081014700 Census Tract 147, Queens County, New York   (((-73.9137 40.76548, -73.9121 40.76473, -73.9113 40.76435, -73.9105 40.76398, -73.9...                2863             44306            513        40118\n",
      " 2 36047100400 Census Tract 1004, Kings County, New York   (((-73.90735 40.63083, -73.90415 40.63295, -73.90233 40.63132, -73.90051 40.62969, -...                3004             49038            473        34895\n",
      " 3 36081047000 Census Tract 470, Queens County, New York   (((-73.78059 40.71343, -73.778 40.71405, -73.77712 40.71426, -73.77537 40.71168, -73...                3637             26400            673        11682\n",
      " 4 36047055000 Census Tract 550, Kings County, New York    (((-73.9548 40.61082, -73.95258 40.61104, -73.95071 40.61125, -73.9503 40.60912, -73...                3773             26932            453        26728\n",
      " 5 36081047900 Census Tract 479, Queens County, New York   (((-73.89137 40.73606, -73.88938 40.73642, -73.8888 40.73653, -73.88753 40.73676, -7...                5829            112614            967        86022\n",
      " 6 36005027402 Census Tract 274.02, Bronx County, New York (((-73.82042 40.84333, -73.82023 40.84622, -73.82014 40.84802, -73.81631 40.84855, -...                3611             53911            577        26740\n",
      " 7 36005020100 Census Tract 201, Bronx County, New York    (((-73.93041 40.84028, -73.92816 40.84549, -73.92397 40.8448, -73.92354 40.84446, -7...                3772             16750            633        13726\n",
      " 8 36047059200 Census Tract 592, Kings County, New York    (((-73.95326 40.59241, -73.9523 40.59251, -73.9527 40.59464, -73.95315 40.59703, -73...                4190             56406            785        18256\n",
      " 9 36081035200 Census Tract 352, Queens County, New York   (((-73.76343 40.67632, -73.76183 40.67905, -73.76161 40.67974, -73.76095 40.6818, -7...                2949             48882            478        42228\n",
      "10 36005006400 Census Tract 64, Bronx County, New York     (((-73.87395 40.83424, -73.8738 40.83597, -73.8711 40.83575, -73.8709 40.83465, -73....                4061             42607            578        32633\n",
      "# ℹ 978 more rows\n",
      "# ℹ Use `print(n = ...)` to see more rows\n"
     ]
    }
   ],
   "source": [
    "%%R\n",
    "\n",
    "# drop rows with NA in column med_earn_estimate\n",
    "\n",
    "nyc_census_data <- nyc_census_data %>%\n",
    "    drop_na(med_earn_estimate)\n",
    "\n",
    "nyc_census_data\n"
   ]
  },
  {
   "cell_type": "code",
   "execution_count": 14,
   "metadata": {},
   "outputs": [],
   "source": [
    "%%R\n",
    "\n",
    "# change df$GEOID to double\n",
    "df$GEOID <- substr(df$GEOID, 1, 11)\n",
    "\n",
    "nyc_census_data$GEOID <- as.numeric(nyc_census_data$GEOID)\n",
    "df$GEOID <- as.numeric(df$GEOID)\n",
    "\n",
    "# keep the first 11 digits in df$GEOID\n",
    "\n",
    "# merge nyc_census_data with df on GEOID\n",
    "df_census <- df %>%\n",
    "    semi_join(nyc_census_data, by = c(\"GEOID\" = \"GEOID\"))"
   ]
  },
  {
   "cell_type": "code",
   "execution_count": 15,
   "metadata": {},
   "outputs": [
    {
     "name": "stdout",
     "output_type": "stream",
     "text": [
      "# A tibble: 18,208 × 40\n",
      "   `Out of Service Date` `Common Name` Outage `Equipment Description`                                  `Executive Comment` `Outage Code` Status `External Source Note`              `Reason Shown to Public` `Reason Shown to Public Description` `Estimated Return to Service Date` `Actual Return to Service Date` Reference          Source                     `Service Code` `Date Created`      `Status Code` `Outage Comments`                                                                                                                                                                                                                                                                                                                                                     `Station MRN` `Station ID` `Complex ID` `GTFS Stop ID` Division Line  `Stop Name` Borough `Daytime Routes` Structure   lat  long North Direction Labe…¹ South Direction Labe…²   ADA `ADA Notes` Georeference   GEOID STATE COUNTY TRACT BLOCK\n",
      "   <dttm>                <chr>          <dbl> <chr>                                                    <chr>               <chr>         <chr>  <chr>                               <chr>                    <chr>                                <dttm>                             <dttm>                          <chr>              <chr>                      <chr>          <dttm>              <chr>         <chr>                                                                                                                                                                                                                                                                                                                                                                         <dbl>        <dbl>        <dbl> <chr>          <chr>    <chr> <chr>       <chr>   <chr>            <chr>     <dbl> <dbl> <chr>                  <chr>                  <dbl> <chr>       <chr>          <dbl> <dbl> <chr>  <chr> <dbl>\n",
      " 1 2023-01-01 00:14:00   EL376         791238 ELE: EL376 - 068 - Bay Pkwy - Outside Area               <NA>                PM            Closed <NA>                                MAINTENANCE              Maintenance                          2023-01-01 07:00:00                2023-01-01 05:30:00             <NA>               Phone                      EE-MANOUT      2023-01-01 00:14:00 CL            \"***This Elevator is out of service for Maintenance***\\n\\n\\nE&EM R.Brown and E&Eh K.Singh arrived for maintenance at 00:05. WO #5407916 PM Completed and RTS @5.30\"                                                                                                                                                                                                              68           68           68 B21            BMT      West… Bay Pkwy    Bk      D                Elevated   40.6 -74.0 Manhattan              Coney Island               1 <NA>        POINT (-73.… 3.60e10    36 047    0296…  2002\n",
      " 2 2023-01-01 01:04:00   EL189         791257 ELE: EL189 - 212 - Kingsbridge Rd - Outside Area         <NA>                AP            Closed <NA>                                PLANNEDWORK              Planned Work                         2023-01-01 09:00:00                2023-01-01 01:18:00             <NA>               Phone                      EE-MANOUT      2023-01-01 01:05:00 CL            \"\\n\\n***This elevator is out of service for Access & Protection for Safety***\"                                                                                                                                                                                                                                                                                                  212          212          212 D04            IND      Conc… Kingsbridg… Bx      B D              Subway     40.9 -73.9 Bedford Pk Blvd & 205… Manhattan                  1 <NA>        POINT (-73.… 3.60e10    36 005    0403…  1003\n",
      " 3 2023-01-01 02:01:00   EL293         791274 ELE: EL293 - 119 - 1 Av - Brooklyn Bound Platform        <NA>                EUF           Closed UPS Battery Failure                 REPAIR                   Repair                               2023-01-01 11:00:00                2023-01-01 04:50:00             ST230101.txt - 192 External Monitoring System EE-LNOUT       2023-01-01 02:08:00 CL             <NA>                                                                                                                                                                                                                                                                                                                                                                           119          119          119 L06            BMT      Cana… 1 Av        M       L                Subway     40.7 -74.0 8 Av                   Brooklyn                   1 <NA>        POINT (-73.… 3.61e10    36 061    0034…  4000\n",
      " 4 2023-01-01 02:08:00   EL449X        791275 ELE: EL449X - 279 - Sutphin Blvd-Archer Av - Mezz        <NA>                TPE           Closed <NA>                                REPAIR                   Repair                               2023-01-05 14:00:00                2023-01-05 03:06:00             <NA>               Phone                      EE-MANOUT      2023-01-01 02:09:00 CL            \"***This elevator is out of service as reported by SS Patel010647***\\n**This machine is out of service for required repairs. NYC Transit is not responsible for the maintenance or repair of this unit**\\n At 22:45 on 01/02/2023 MOW#85 states customers entrapped in EL449x at Sutphin blvd. No medical requested. Notified MS1 Pukhalski   MS1 Pukhalskiy updated…           279          279          279 G06            IND      Quee… Sutphin Bl… Q       E J Z            Subway     40.7 -73.8 Jamaica Center         Manhattan                  1 <NA>        POINT (-73.… 3.61e10    36 081    0208…  1000\n",
      " 5 2023-01-01 05:43:00   EL428         791299 ELE: EL428 - 273 - Queens Plaza - Outside Area           <NA>                VAN           Closed <NA>                                REPAIR                   Repair                               2023-01-01 13:00:00                2023-01-01 09:10:00             <NA>               Phone                      EE-MANOUT      2023-01-01 05:44:00 CL             <NA>                                                                                                                                                                                                                                                                                                                                                                           273          273          273 G21            IND      Quee… Queens Pla… Q       E M R            Subway     40.7 -73.9 Forest Hills - Jamaica Manhattan                  1 <NA>        POINT (-73.… 3.61e10    36 081    0033…  1019\n",
      " 6 2023-01-01 07:45:00   EL397         791316 ELE: EL397 - 128 - Myrtle-Wyckoff Avs - Island Plat      <NA>                BRP           Closed <NA>                                REPAIR                   Repair                               2023-01-03 16:00:00                2023-01-02 02:30:00             <NA>               Phone                      EE-MANOUT      2023-01-01 08:55:00 CL             <NA>                                                                                                                                                                                                                                                                                                                                                                           128          128          630 L17            BMT      Cana… Myrtle-Wyc… Bk      L                Subway     40.7 -73.9 Manhattan              Canarsie - Rockaway P…     1 <NA>        POINT (-73.… 3.60e10    36 047    0439…  3002\n",
      " 7 2023-01-01 07:57:00   EL222         791305 ELE: EL222 - 166 - 14 St - Brooklyn Bound Plat           <NA>                VAN           Closed <NA>                                UNDERINVESTG             Under Investigation                  2023-01-01 16:00:00                2023-01-01 09:40:00             <NA>               Phone                      EE-MANOUT      2023-01-01 07:58:00 CL             <NA>                                                                                                                                                                                                                                                                                                                                                                           166          166          618 A31            IND      8th … 14 St       M       A C E            Subway     40.7 -74.0 Uptown - Queens        Downtown & Brooklyn        1 <NA>        POINT (-74.… 3.61e10    36 061    0081…  5000\n",
      " 8 2023-01-01 09:57:00   EL730         791321 ELE: EL730 - 330 - South Ferry - Outside Area            <NA>                BRP           Closed Door Closing/ Top Door Lock Failure REPAIR                   Repair                               2023-01-01 18:00:00                2023-01-01 10:30:00             ST230101.txt - 687 External Monitoring System EE-LNOUT       2023-01-01 10:03:00 CL             <NA>                                                                                                                                                                                                                                                                                                                                                                           330          330          635 142            IRT      Broa… South Ferry M       1                Subway     40.7 -74.0 Uptown & The Bronx     <NA>                       1 <NA>        POINT (-74.… 3.61e10    36 061    0009…  1019\n",
      " 9 2023-01-01 11:05:00   EL434         791324 ELE: EL434 - 259 - Kew Gardens-Union Tpke - Outside Area <NA>                FR            Closed <NA>                                REPAIR                   Repair                               2023-01-01 20:00:00                2023-01-01 12:00:00             <NA>               Phone                      EE-MANOUT      2023-01-01 11:05:00 CL             <NA>                                                                                                                                                                                                                                                                                                                                                                           259          259          259 F06            IND      Quee… Kew Garden… Q       E F              Subway     40.7 -73.8 Jamaica                Manhattan                  1 <NA>        POINT (-73.… 3.61e10    36 081    0383…  1084\n",
      "10 2023-01-01 12:20:00   EL222         791336 ELE: EL222 - 166 - 14 St - Brooklyn Bound Plat           <NA>                FR            Closed <NA>                                REPAIR                   Repair                               2023-01-01 21:00:00                2023-01-01 13:05:00             <NA>               Phone                      EE-MANOUT      2023-01-01 12:29:00 CL             <NA>                                                                                                                                                                                                                                                                                                                                                                           166          166          618 A31            IND      8th … 14 St       M       A C E            Subway     40.7 -74.0 Uptown - Queens        Downtown & Brooklyn        1 <NA>        POINT (-74.… 3.61e10    36 061    0081…  5000\n",
      "# ℹ 18,198 more rows\n",
      "# ℹ abbreviated names: ¹​`North Direction Label`, ²​`South Direction Label`\n",
      "# ℹ Use `print(n = ...)` to see more rows\n"
     ]
    }
   ],
   "source": [
    "%%R\n",
    "df"
   ]
  },
  {
   "cell_type": "code",
   "execution_count": 16,
   "metadata": {},
   "outputs": [
    {
     "name": "stdout",
     "output_type": "stream",
     "text": [
      "# A tibble: 6,396 × 40\n",
      "   `Out of Service Date` `Common Name` Outage `Equipment Description`                               `Executive Comment` `Outage Code` Status    `External Source Note`              `Reason Shown to Public` `Reason Shown to Public Description` `Estimated Return to Service Date` `Actual Return to Service Date` Reference           Source                     `Service Code` `Date Created`      `Status Code` `Outage Comments`                                                                                                                                       `Station MRN` `Station ID` `Complex ID` `GTFS Stop ID` Division Line               `Stop Name`              Borough `Daytime Routes` Structure   lat  long `North Direction Label`  `South Direction Label`       ADA `ADA Notes` Georeference                       GEOID STATE COUNTY TRACT  BLOCK\n",
      "   <dttm>                <chr>          <dbl> <chr>                                                 <chr>               <chr>         <chr>     <chr>                               <chr>                    <chr>                                <dttm>                             <dttm>                          <chr>               <chr>                      <chr>          <dttm>              <chr>         <chr>                                                                                                                                                           <dbl>        <dbl>        <dbl> <chr>          <chr>    <chr>              <chr>                    <chr>   <chr>            <chr>     <dbl> <dbl> <chr>                    <chr>                       <dbl> <chr>       <chr>                              <dbl> <dbl> <chr>  <chr>  <dbl>\n",
      " 1 2023-01-01 01:04:00   EL189         791257 ELE: EL189 - 212 - Kingsbridge Rd - Outside Area      <NA>                AP            Closed    <NA>                                PLANNEDWORK              Planned Work                         2023-01-01 09:00:00                2023-01-01 01:18:00             <NA>                Phone                      EE-MANOUT      2023-01-01 01:05:00 CL            \"\\n\\n***This elevator is out of service for Access & Protection for Safety***\"                                                                                    212          212          212 D04            IND      Concourse          Kingsbridge Rd           Bx      B D              Subway     40.9 -73.9 Bedford Pk Blvd & 205 St Manhattan                       1 <NA>        POINT (-73.893509 40.866978) 36005040302    36 005    040302  1003\n",
      " 2 2023-01-01 05:43:00   EL428         791299 ELE: EL428 - 273 - Queens Plaza - Outside Area        <NA>                VAN           Closed    <NA>                                REPAIR                   Repair                               2023-01-01 13:00:00                2023-01-01 09:10:00             <NA>                Phone                      EE-MANOUT      2023-01-01 05:44:00 CL             <NA>                                                                                                                                                             273          273          273 G21            IND      Queens Blvd        Queens Plaza             Q       E M R            Subway     40.7 -73.9 Forest Hills - Jamaica   Manhattan                       1 <NA>        POINT (-73.937243 40.748973) 36081003301    36 081    003301  1019\n",
      " 3 2023-01-01 07:45:00   EL397         791316 ELE: EL397 - 128 - Myrtle-Wyckoff Avs - Island Plat   <NA>                BRP           Closed    <NA>                                REPAIR                   Repair                               2023-01-03 16:00:00                2023-01-02 02:30:00             <NA>                Phone                      EE-MANOUT      2023-01-01 08:55:00 CL             <NA>                                                                                                                                                             128          128          630 L17            BMT      Canarsie           Myrtle-Wyckoff Avs       Bk      L                Subway     40.7 -73.9 Manhattan                Canarsie - Rockaway Parkway     1 <NA>        POINT (-73.911586 40.699814) 36047043900    36 047    043900  3002\n",
      " 4 2023-01-01 09:57:00   EL730         791321 ELE: EL730 - 330 - South Ferry - Outside Area         <NA>                BRP           Closed    Door Closing/ Top Door Lock Failure REPAIR                   Repair                               2023-01-01 18:00:00                2023-01-01 10:30:00             ST230101.txt - 687  External Monitoring System EE-LNOUT       2023-01-01 10:03:00 CL             <NA>                                                                                                                                                             330          330          635 142            IRT      Broadway - 7Av     South Ferry              M       1                Subway     40.7 -74.0 Uptown & The Bronx       <NA>                            1 <NA>        POINT (-74.013664 40.702068) 36061000900    36 061    000900  1019\n",
      " 5 2023-01-01 13:30:00   EL465         791348 ELE: EL465 - 002 - Astoria Blvd - Mezzanine           <NA>                BRP           Closed    Jumper Detected between SFC and TCS REPAIR                   Repair                               2023-01-03 22:00:00                2023-01-01 17:00:00             ST230101.txt - 988  External Monitoring System EE-LNOUT       2023-01-01 13:37:00 CL             <NA>                                                                                                                                                               2            2            2 R03            BMT      Astoria            Astoria Blvd             Q       N W              Elevated   40.8 -73.9 Astoria - Ditmars Blvd   Manhattan                       1 <NA>        POINT (-73.917843 40.770258) 36081012500    36 081    012500  1017\n",
      " 6 2023-01-01 16:03:00   EL124         791365 ELE: EL124 - 147 - 175 St                             <NA>                FR            Closed    Close Time Out                      REPAIR                   Repair                               2023-01-02 01:00:00                2023-01-01 19:40:00             ST230101.txt - 1240 External Monitoring System EE-LNOUT       2023-01-01 16:22:00 CL             <NA>                                                                                                                                                             147          147          147 A07            IND      8th Av - Fulton St 175 St                   M       A                Subway     40.8 -73.9 207 St                   Downtown & Brooklyn             1 <NA>        POINT (-73.939704 40.847391) 36061026300    36 061    026300  5002\n",
      " 7 2023-01-01 23:41:00   EL115         789408 ELE: EL115 - 145 - 190 St                             <NA>                PM            Closed    <NA>                                MAINTENANCE              Maintenance                          2023-01-02 07:00:00                2023-01-02 04:25:00             <NA>                External Monitoring System EE-MANOUT      2022-12-27 03:42:00 CL            \"***This Elevator is out of service for Maintenance***\\n\\n\\nE&EM Ricart E&EH Carchi arrived @2335 For Monthly PM WO #5407773 PM Complete RTS @0425HRS.\"           145          145          145 A05            IND      8th Av - Fulton St 190 St                   M       A                Subway     40.9 -73.9 207 St                   Downtown & Brooklyn             0 <NA>        POINT (-73.93418 40.859022)  36061028100    36 061    028100  2000\n",
      " 8 2023-01-02 01:56:00   EL296         791509 ELE: EL296 - 402 - 42 St Grand Central - Location TBD <NA>                BRP           Closed    UPS Battery Failure                 REPAIR                   Repair                               2023-01-02 10:00:00                2023-01-02 03:50:00             ST230102.txt - 218  External Monitoring System EE-LNOUT       2023-01-02 02:03:00 CL             <NA>                                                                                                                                                             402          402          610 631            IRT      Lexington Av       Grand Central-42 St      M       4 5 6            Subway     40.8 -74.0 Uptown & The Bronx       Downtown & Brooklyn             1 <NA>        POINT (-73.976848 40.751776) 36061009200    36 061    009200  2008\n",
      " 9 2023-01-02 08:02:00   EL462         791551 ELE: EL462 - 195 - Ozone Park-Lefferts Blvd           <NA>                FR            Cancelled LU Sensor Didn't Activate           UNDERINVESTG             Under Investigation                  2023-01-02 17:00:00                NA                              ST230102.txt - 588  External Monitoring System EE-LNOUT       2023-01-02 08:09:00 C             \"As per Liftnet Galaxy Client machine is running.\"                                                                                                                195          195          195 A65            IND      Liberty Av         Ozone Park-Lefferts Blvd Q       A                Elevated   40.7 -73.8 Manhattan                <NA>                            1 <NA>        POINT (-73.825798 40.685951) 36081010600    36 081    010600  2001\n",
      "10 2023-01-02 10:55:00   EL462         791637 ELE: EL462 - 195 - Ozone Park-Lefferts Blvd           <NA>                FR            Cancelled LU Sensor Didn't Activate           UNDERINVESTG             Under Investigation                  2023-01-02 19:00:00                NA                              ST230102.txt - 1024 External Monitoring System EE-LNOUT       2023-01-02 11:02:00 C             \"As per Liftnet Galaxy Client machine is running.\"                                                                                                                195          195          195 A65            IND      Liberty Av         Ozone Park-Lefferts Blvd Q       A                Elevated   40.7 -73.8 Manhattan                <NA>                            1 <NA>        POINT (-73.825798 40.685951) 36081010600    36 081    010600  2001\n",
      "# ℹ 6,386 more rows\n",
      "# ℹ Use `print(n = ...)` to see more rows\n"
     ]
    }
   ],
   "source": [
    "%%R\n",
    "df_census"
   ]
  },
  {
   "cell_type": "code",
   "execution_count": 17,
   "metadata": {},
   "outputs": [],
   "source": [
    "%%R\n",
    "write_csv(df_census, \"2023_subway_censusvar.csv\")"
   ]
  },
  {
   "cell_type": "code",
   "execution_count": null,
   "metadata": {},
   "outputs": [],
   "source": []
  }
 ],
 "metadata": {
  "kernelspec": {
   "display_name": "Python 3 (ipykernel)",
   "language": "python",
   "name": "python3"
  },
  "language_info": {
   "codemirror_mode": {
    "name": "ipython",
    "version": 3
   },
   "file_extension": ".py",
   "mimetype": "text/x-python",
   "name": "python",
   "nbconvert_exporter": "python",
   "pygments_lexer": "ipython3",
   "version": "3.11.7"
  }
 },
 "nbformat": 4,
 "nbformat_minor": 4
}
